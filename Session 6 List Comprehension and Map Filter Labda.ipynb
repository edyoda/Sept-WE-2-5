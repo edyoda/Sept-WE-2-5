{
 "cells": [
  {
   "cell_type": "code",
   "execution_count": 1,
   "metadata": {},
   "outputs": [
    {
     "name": "stdout",
     "output_type": "stream",
     "text": [
      "[100, 400, 900, 1600, 2500, 3600]\n"
     ]
    }
   ],
   "source": [
    "l = [10,20,30,40,50,60]\n",
    "l2 = []\n",
    "\n",
    "for value in l:\n",
    "    l2.append(value*value)\n",
    "print(l2)"
   ]
  },
  {
   "cell_type": "code",
   "execution_count": 2,
   "metadata": {},
   "outputs": [
    {
     "name": "stdout",
     "output_type": "stream",
     "text": [
      "[100, 400, 900, 1600, 2500, 3600]\n"
     ]
    }
   ],
   "source": [
    "l = [10,20,30,40,50,60]\n",
    "l2 = [value * value for value in l]\n",
    "print(l2)"
   ]
  },
  {
   "cell_type": "code",
   "execution_count": 3,
   "metadata": {},
   "outputs": [
    {
     "name": "stdout",
     "output_type": "stream",
     "text": [
      "[3, 5, 6, 10]\n"
     ]
    }
   ],
   "source": [
    "l = ['abc','etere','uyyyrr','oooooeeeee']\n",
    "l2 = [len(value) for value in l]\n",
    "print(l2)"
   ]
  },
  {
   "cell_type": "code",
   "execution_count": 4,
   "metadata": {},
   "outputs": [
    {
     "name": "stdout",
     "output_type": "stream",
     "text": [
      "[10, 20, 20, 14, 400]\n"
     ]
    }
   ],
   "source": [
    "l = [10,15,20,25,45,20,14,45,400]\n",
    "l2 = [value for value in l if value % 2 == 0]\n",
    "print(l2)"
   ]
  },
  {
   "cell_type": "code",
   "execution_count": 10,
   "metadata": {},
   "outputs": [
    {
     "name": "stdout",
     "output_type": "stream",
     "text": [
      "[('Even', 10), ('Odd', 15), ('Even', 20), ('Odd', 25), ('Odd', 45), ('zero',), ('zero',), ('Even', 20), ('Even', 14), ('Odd', 45), ('Even', 150), ('Even', 4)]\n"
     ]
    }
   ],
   "source": [
    "l = [10,15,20,25,45,0,0,20,14,45,400,150,200,756,4,330]\n",
    "l2 = [(\"zero\",) if value == 0 else (\"Even\",value) if value%2 == 0 else (\"Odd\",value) for value in l if value < 200 ]\n",
    "print(l2)"
   ]
  },
  {
   "cell_type": "code",
   "execution_count": 12,
   "metadata": {},
   "outputs": [
    {
     "name": "stdout",
     "output_type": "stream",
     "text": [
      "1 101\n",
      "1 102\n",
      "1 103\n",
      "1 104\n",
      "2 101\n",
      "2 102\n",
      "2 103\n",
      "2 104\n",
      "3 101\n",
      "3 102\n",
      "3 103\n",
      "3 104\n",
      "4 101\n",
      "4 102\n",
      "4 103\n",
      "4 104\n"
     ]
    }
   ],
   "source": [
    "for val1 in range(1,5):\n",
    "    for val2 in range(101,105):\n",
    "        print(val1,val2)"
   ]
  },
  {
   "cell_type": "code",
   "execution_count": 14,
   "metadata": {},
   "outputs": [
    {
     "name": "stdout",
     "output_type": "stream",
     "text": [
      "[(1, 100), (1, 101), (1, 102), (2, 100), (2, 101), (2, 102)]\n"
     ]
    }
   ],
   "source": [
    "l2 = [(value1,value2)for value1 in range(1,3) for value2 in range(100,103)]\n",
    "print(l2)"
   ]
  },
  {
   "cell_type": "code",
   "execution_count": null,
   "metadata": {},
   "outputs": [],
   "source": [
    "l = [[1,2,3],[4,5,6],[7,8,9]]\n",
    "l2 = [1,2,3,4,5,6,7,8,9]\n",
    "[[1,4,7],[2,5,8],[3,6,9]]"
   ]
  },
  {
   "cell_type": "code",
   "execution_count": 5,
   "metadata": {},
   "outputs": [
    {
     "name": "stdout",
     "output_type": "stream",
     "text": [
      "[[1, 4, 7], [2, 5, 8], [3, 6, 9]]\n"
     ]
    }
   ],
   "source": [
    "l = [[1,2,3],[4,5,6],[7,8,9]]\n",
    "l2 = [[value[index] for value in l] for index in range(3)]\n",
    "print(l2)"
   ]
  },
  {
   "cell_type": "code",
   "execution_count": null,
   "metadata": {},
   "outputs": [],
   "source": [
    "[value[0] for value in l] = [1,4,7]\n",
    "[value[1] for value in l] = [2,5,8]\n",
    "[value[2] for value in l] = [3,6,9]"
   ]
  },
  {
   "cell_type": "code",
   "execution_count": null,
   "metadata": {},
   "outputs": [],
   "source": [
    "I can convert every comprehension to normal for loops \n",
    "but viceversa not true "
   ]
  },
  {
   "cell_type": "code",
   "execution_count": 6,
   "metadata": {},
   "outputs": [
    {
     "name": "stdout",
     "output_type": "stream",
     "text": [
      "[(1, 'abc@gmail.com'), (2, 'pqr@gmail.com'), (3, 'rst@gmail.com')]\n"
     ]
    }
   ],
   "source": [
    "l = [(1,\"ABC\",\"abc@gmail.com\",\"7123456789\"),(2,\"PQR\",\"pqr@gmail.com\",\"7123456789\"),(3,\"RST\",\"rst@gmail.com\",\"7123456789\")]\n",
    "# l = [(1,\"abc@gmail.com\"),(2,\"pqr@gmail.com\"),(3,\"rst@gmail.com\")]\n",
    "\n",
    "l2 = [(value[0],value[2]) for value in l]\n",
    "print(l2)\n",
    "\n"
   ]
  },
  {
   "cell_type": "code",
   "execution_count": 7,
   "metadata": {},
   "outputs": [
    {
     "name": "stdout",
     "output_type": "stream",
     "text": [
      "{1: 1, 2: 4, 3: 9, 4: 16, 5: 25, 6: 36, 7: 49, 8: 64, 9: 81, 10: 100}\n"
     ]
    }
   ],
   "source": [
    "d = {key:key*key for key in range(1,11)}\n",
    "print(d)"
   ]
  },
  {
   "cell_type": "code",
   "execution_count": null,
   "metadata": {},
   "outputs": [],
   "source": [
    "a:97,b:98.....z:122\n",
    "ord(97) => a\n",
    "chr(a) = 97"
   ]
  },
  {
   "cell_type": "code",
   "execution_count": 9,
   "metadata": {},
   "outputs": [
    {
     "name": "stdout",
     "output_type": "stream",
     "text": [
      "97\n",
      "a\n"
     ]
    }
   ],
   "source": [
    "print(ord('a'))\n",
    "print(chr(97))"
   ]
  },
  {
   "cell_type": "code",
   "execution_count": 12,
   "metadata": {},
   "outputs": [
    {
     "name": "stdout",
     "output_type": "stream",
     "text": [
      "{'a': 97, 'b': 98, 'c': 99, 'd': 100, 'e': 101, 'f': 102, 'g': 103, 'h': 104, 'i': 105, 'j': 106, 'k': 107, 'l': 108, 'm': 109, 'n': 110, 'o': 111, 'p': 112, 'q': 113, 'r': 114, 's': 115, 't': 116, 'u': 117, 'v': 118, 'w': 119, 'x': 120, 'y': 121, 'z': 122}\n"
     ]
    }
   ],
   "source": [
    "d = {chr(value):value for value in range(97,123)}\n",
    "print(d)"
   ]
  },
  {
   "cell_type": "code",
   "execution_count": 13,
   "metadata": {},
   "outputs": [
    {
     "name": "stdout",
     "output_type": "stream",
     "text": [
      "{97: 'a', 98: 'b', 99: 'c', 100: 'd', 101: 'e', 102: 'f', 103: 'g', 104: 'h', 105: 'i', 106: 'j', 107: 'k', 108: 'l', 109: 'm', 110: 'n', 111: 'o', 112: 'p', 113: 'q', 114: 'r', 115: 's', 116: 't', 117: 'u', 118: 'v', 119: 'w', 120: 'x', 121: 'y', 122: 'z'}\n"
     ]
    }
   ],
   "source": [
    "d1 = {value:key for key,value in d.items()}\n",
    "print(d1)"
   ]
  },
  {
   "cell_type": "code",
   "execution_count": null,
   "metadata": {},
   "outputs": [],
   "source": [
    "d = {{1,10}:0,(11,20):0.................(91,100):0}\n",
    "l = [10,15,45,78,98,1,45,10,25]\n",
    "zip"
   ]
  },
  {
   "cell_type": "code",
   "execution_count": 14,
   "metadata": {},
   "outputs": [
    {
     "name": "stdout",
     "output_type": "stream",
     "text": [
      "[(10, 1), (20, 2), (30, 3)]\n"
     ]
    }
   ],
   "source": [
    "l1 = [10,20,30]\n",
    "l2 = [1,2,3]\n",
    "print(list(zip(l1,l2)))"
   ]
  },
  {
   "cell_type": "code",
   "execution_count": 17,
   "metadata": {},
   "outputs": [
    {
     "name": "stdout",
     "output_type": "stream",
     "text": [
      "{(1, 10): 2, (11, 20): 1, (21, 30): 1, (31, 40): 0, (41, 50): 2, (51, 60): 0, (61, 70): 0, (71, 80): 1, (81, 90): 0, (91, 100): 1}\n"
     ]
    }
   ],
   "source": [
    "d2 = {key: 0 for key in zip(range(1,92,10),range(10,101,10))}\n",
    "l = [10,15,45,78,98,1,45,10,25]\n",
    "\n",
    "for value in l:\n",
    "    for key,val in d2.items():\n",
    "        if value > key[0] and value <= key[1]:\n",
    "            d2[key] +=1\n",
    "print(d2)"
   ]
  },
  {
   "cell_type": "code",
   "execution_count": 19,
   "metadata": {},
   "outputs": [
    {
     "name": "stdout",
     "output_type": "stream",
     "text": [
      "{0, 4}\n"
     ]
    }
   ],
   "source": [
    "l = [10,10,15,45,75,45,25,45,74,75]\n",
    "l2 = {value %5 for value in l}\n",
    "print(l2)"
   ]
  },
  {
   "cell_type": "code",
   "execution_count": 21,
   "metadata": {},
   "outputs": [
    {
     "name": "stdout",
     "output_type": "stream",
     "text": [
      "21.006911990865568\n"
     ]
    }
   ],
   "source": [
    "import timeit\n",
    "\n",
    "t = timeit.timeit(stmt = \"\"\"\n",
    "l2 = []\n",
    "for value in range(1,100000000):\n",
    "    l2.append(value * value)\n",
    "\"\"\",number = 1)\n",
    "print(t)"
   ]
  },
  {
   "cell_type": "code",
   "execution_count": null,
   "metadata": {},
   "outputs": [],
   "source": [
    "t = timeit.timeit(stmt = \"\"\"\n",
    "l2 = [value*value for value in range(1,100000000)]\n",
    "\"\"\",number = 1)\n",
    "print(t)"
   ]
  },
  {
   "cell_type": "markdown",
   "metadata": {},
   "source": [
    "Map Filter and Lambda "
   ]
  },
  {
   "cell_type": "code",
   "execution_count": 26,
   "metadata": {},
   "outputs": [
    {
     "name": "stdout",
     "output_type": "stream",
     "text": [
      "[100, 400, 900, 1600, 2500, 3600]\n"
     ]
    }
   ],
   "source": [
    "def square(num1):\n",
    "    return num1 * num1\n",
    "\n",
    "l = [10,20,30,40,50,60]\n",
    "m = list(map(square,l))\n",
    "print(m)"
   ]
  },
  {
   "cell_type": "code",
   "execution_count": 27,
   "metadata": {},
   "outputs": [
    {
     "name": "stdout",
     "output_type": "stream",
     "text": [
      "[111, 222, 333, 444, 555]\n"
     ]
    }
   ],
   "source": [
    "def add(num1,num2,num3):\n",
    "    return num1+num2+num3\n",
    "\n",
    "l1 = [10,20,30,40,50]\n",
    "l2 = [1,2,3,4,5]\n",
    "l3 = [100,200,300,400,500]\n",
    "\n",
    "l4 = list(map(add,l1,l2,l3))\n",
    "print(l4)"
   ]
  },
  {
   "cell_type": "code",
   "execution_count": 34,
   "metadata": {},
   "outputs": [
    {
     "name": "stdout",
     "output_type": "stream",
     "text": [
      "[10, 20, 30, 40]\n"
     ]
    }
   ],
   "source": [
    "def even(num1):\n",
    "    if num1 % 2 == 0:\n",
    "        return True\n",
    "    else:\n",
    "        return False\n",
    "    \n",
    "l = [10,15,20,25,30,35,40,45]\n",
    "l2 = list(filter(even,l))\n",
    "print(l2)"
   ]
  },
  {
   "cell_type": "code",
   "execution_count": null,
   "metadata": {},
   "outputs": [],
   "source": [
    "perfect no 6\n",
    "6 = 1 2 3 = 6\n",
    "6 1 2 3 4 5\n",
    "    1 + 2 + 3 = 6 == num\n",
    "\n",
    "\n"
   ]
  },
  {
   "cell_type": "code",
   "execution_count": 38,
   "metadata": {},
   "outputs": [
    {
     "name": "stdout",
     "output_type": "stream",
     "text": [
      "[6, 28]\n"
     ]
    }
   ],
   "source": [
    "def perfect(num1):\n",
    "    sum = 0\n",
    "    for value in range(1,num1):\n",
    "        if num1 % value == 0:\n",
    "            sum = sum + value\n",
    "            \n",
    "    if sum == num1:\n",
    "        return True\n",
    "    else:\n",
    "        return False\n",
    "    \n",
    "# num1 = 7\n",
    "# print(perfect(num1))\n",
    "\n",
    "l = list(filter(perfect,range(1,100)))\n",
    "print(l)"
   ]
  },
  {
   "cell_type": "code",
   "execution_count": null,
   "metadata": {},
   "outputs": [],
   "source": [
    "lambda => inline function \n",
    "\n"
   ]
  },
  {
   "cell_type": "code",
   "execution_count": 39,
   "metadata": {},
   "outputs": [
    {
     "name": "stdout",
     "output_type": "stream",
     "text": [
      "[100, 400, 900, 1600, 2500, 3600]\n"
     ]
    }
   ],
   "source": [
    "l = [10,20,30,40,50,60]\n",
    "l2 = list(map(lambda num1: num1 * num1 ,l))\n",
    "print(l2)\n"
   ]
  },
  {
   "cell_type": "code",
   "execution_count": 40,
   "metadata": {},
   "outputs": [
    {
     "name": "stdout",
     "output_type": "stream",
     "text": [
      "[111, 222, 333, 444, 555]\n"
     ]
    }
   ],
   "source": [
    "l1 = [10,20,30,40,50]\n",
    "l2 = [1,2,3,4,5]\n",
    "l3 = [100,200,300,400,500]\n",
    "\n",
    "l4 = list(map(lambda num1,num2,num3: num1 + num2 + num3 ,l1,l2,l3))\n",
    "print(l4)"
   ]
  },
  {
   "cell_type": "code",
   "execution_count": 42,
   "metadata": {},
   "outputs": [
    {
     "name": "stdout",
     "output_type": "stream",
     "text": [
      "[10, 20, 50]\n"
     ]
    }
   ],
   "source": [
    "l = [10,15,20,25,45,50,55]\n",
    "l2 = list(filter(lambda num1 : num1 % 2 == 0 ,l))\n",
    "print(l2)\n"
   ]
  },
  {
   "cell_type": "code",
   "execution_count": 44,
   "metadata": {},
   "outputs": [
    {
     "name": "stdout",
     "output_type": "stream",
     "text": [
      "17.092677163659573\n"
     ]
    }
   ],
   "source": [
    "import timeit\n",
    "t = timeit.timeit(stmt = \"\"\"\n",
    "m = list(map(lambda num1: num1 * num1,  range(1,100000000)))\n",
    "\"\"\",number = 1)\n",
    "print(t)"
   ]
  },
  {
   "cell_type": "code",
   "execution_count": 45,
   "metadata": {},
   "outputs": [
    {
     "name": "stdout",
     "output_type": "stream",
     "text": [
      "vowel\n"
     ]
    }
   ],
   "source": [
    "c = \"a\"\n",
    "f = lambda c:\"vowel\" if c in 'aeiou' else \"consonent\"\n",
    "print(f(c))"
   ]
  },
  {
   "cell_type": "code",
   "execution_count": 52,
   "metadata": {},
   "outputs": [
    {
     "name": "stdout",
     "output_type": "stream",
     "text": [
      "[(50, 10), (40, 20), (30, 30), (10, 40), (20, 50)]\n"
     ]
    }
   ],
   "source": [
    "def val(num1):\n",
    "    print(num1)\n",
    "    return num1[1]\n",
    "\n",
    "d = {20:50,10:40,30:30,40:20,50:10}\n",
    "l = sorted(d.items(),key = lambda num1 : num1[1])\n",
    "print(l)"
   ]
  },
  {
   "cell_type": "markdown",
   "metadata": {},
   "source": [
    "Generators :"
   ]
  },
  {
   "cell_type": "code",
   "execution_count": null,
   "metadata": {},
   "outputs": [],
   "source": [
    "def fun()\n",
    "\n",
    "\n",
    "fun()\n",
    "\n",
    "0,1 ,1 , 2,3 ......."
   ]
  },
  {
   "cell_type": "code",
   "execution_count": 59,
   "metadata": {},
   "outputs": [
    {
     "name": "stdout",
     "output_type": "stream",
     "text": [
      "<generator object fibo at 0x000001F106C920F8>\n",
      "1\n",
      "1\n",
      "2\n",
      "3\n",
      "5\n",
      "8\n",
      "13\n",
      "21\n",
      "1\n"
     ]
    }
   ],
   "source": [
    "def fibo():\n",
    "    num1 = 0\n",
    "    num2 = 1\n",
    "    yield num2\n",
    "    while(True):\n",
    "        next_num = num1 + num2 \n",
    "        yield next_num\n",
    "        num1,num2 = num2,next_num   \n",
    "    \n",
    "g = fibo()\n",
    "print(g)\n",
    "print(next(g))\n",
    "print(next(g))\n",
    "print(next(g))\n",
    "\n",
    "for value in range(5):\n",
    "    print(next(g))\n",
    "    \n",
    "f = fibo()\n",
    "print(next(f))\n",
    "\n",
    "for value in g:\n",
    "    print(value)"
   ]
  },
  {
   "cell_type": "code",
   "execution_count": 63,
   "metadata": {},
   "outputs": [
    {
     "name": "stdout",
     "output_type": "stream",
     "text": [
      "<generator object printVal at 0x000001F106C92E60>\n",
      "10\n",
      "20\n",
      "30\n",
      "40\n",
      "50\n"
     ]
    }
   ],
   "source": [
    "def printVal(l):\n",
    "    for value in l:\n",
    "        yield value\n",
    "        \n",
    "l = [10,20,30,40,50]\n",
    "g = printVal(l)\n",
    "print(g)\n",
    "\n",
    "# print(next(g))\n",
    "# print(next(g))\n",
    "# print(next(g))\n",
    "# print(next(g))\n",
    "# print(next(g))\n",
    "# print(next(g))\n",
    "\n",
    "for value in g:\n",
    "    print(value)"
   ]
  },
  {
   "cell_type": "code",
   "execution_count": 66,
   "metadata": {},
   "outputs": [
    {
     "name": "stdout",
     "output_type": "stream",
     "text": [
      "<generator object <genexpr> at 0x000001F106C92F10>\n",
      "100\n"
     ]
    }
   ],
   "source": [
    "l = [10,20,30,40,50,60,70]\n",
    "l2 = (value * value for value in l)\n",
    "print(l2)\n",
    "print(next(l2))"
   ]
  }
 ],
 "metadata": {
  "kernelspec": {
   "display_name": "Python 3",
   "language": "python",
   "name": "python3"
  },
  "language_info": {
   "codemirror_mode": {
    "name": "ipython",
    "version": 3
   },
   "file_extension": ".py",
   "mimetype": "text/x-python",
   "name": "python",
   "nbconvert_exporter": "python",
   "pygments_lexer": "ipython3",
   "version": "3.6.5"
  }
 },
 "nbformat": 4,
 "nbformat_minor": 2
}
