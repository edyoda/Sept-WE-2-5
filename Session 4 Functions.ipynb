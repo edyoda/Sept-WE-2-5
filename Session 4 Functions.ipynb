{
 "cells": [
  {
   "cell_type": "code",
   "execution_count": 2,
   "metadata": {},
   "outputs": [
    {
     "name": "stdout",
     "output_type": "stream",
     "text": [
      "3\n"
     ]
    }
   ],
   "source": [
    "s = \"Python string\"\n",
    "print(s.index(\"h\"))"
   ]
  },
  {
   "cell_type": "code",
   "execution_count": null,
   "metadata": {},
   "outputs": [],
   "source": [
    "fun call \n",
    "fun def"
   ]
  },
  {
   "cell_type": "code",
   "execution_count": 8,
   "metadata": {},
   "outputs": [
    {
     "name": "stdout",
     "output_type": "stream",
     "text": [
      "10 20\n",
      "30\n",
      "10 String\n"
     ]
    },
    {
     "ename": "TypeError",
     "evalue": "unsupported operand type(s) for +: 'int' and 'str'",
     "output_type": "error",
     "traceback": [
      "\u001b[1;31m---------------------------------------------------------------------------\u001b[0m",
      "\u001b[1;31mTypeError\u001b[0m                                 Traceback (most recent call last)",
      "\u001b[1;32m<ipython-input-8-0b8749559568>\u001b[0m in \u001b[0;36m<module>\u001b[1;34m()\u001b[0m\n\u001b[0;32m      8\u001b[0m \u001b[0mprint\u001b[0m\u001b[1;33m(\u001b[0m\u001b[0mresult\u001b[0m\u001b[1;33m)\u001b[0m\u001b[1;33m\u001b[0m\u001b[0m\n\u001b[0;32m      9\u001b[0m \u001b[1;33m\u001b[0m\u001b[0m\n\u001b[1;32m---> 10\u001b[1;33m \u001b[0mresult\u001b[0m \u001b[1;33m=\u001b[0m \u001b[0madd\u001b[0m\u001b[1;33m(\u001b[0m\u001b[1;36m10\u001b[0m\u001b[1;33m,\u001b[0m\u001b[1;34m\"String\"\u001b[0m\u001b[1;33m)\u001b[0m\u001b[1;33m\u001b[0m\u001b[0m\n\u001b[0m\u001b[0;32m     11\u001b[0m \u001b[0mprint\u001b[0m\u001b[1;33m(\u001b[0m\u001b[0mresult\u001b[0m\u001b[1;33m)\u001b[0m\u001b[1;33m\u001b[0m\u001b[0m\n\u001b[0;32m     12\u001b[0m \u001b[1;33m\u001b[0m\u001b[0m\n",
      "\u001b[1;32m<ipython-input-8-0b8749559568>\u001b[0m in \u001b[0;36madd\u001b[1;34m(num1, num2)\u001b[0m\n\u001b[0;32m      1\u001b[0m \u001b[1;32mdef\u001b[0m \u001b[0madd\u001b[0m\u001b[1;33m(\u001b[0m\u001b[0mnum1\u001b[0m\u001b[1;33m,\u001b[0m\u001b[0mnum2\u001b[0m\u001b[1;33m)\u001b[0m\u001b[1;33m:\u001b[0m\u001b[1;33m\u001b[0m\u001b[0m\n\u001b[0;32m      2\u001b[0m     \u001b[0mprint\u001b[0m\u001b[1;33m(\u001b[0m\u001b[0mnum1\u001b[0m\u001b[1;33m,\u001b[0m\u001b[0mnum2\u001b[0m\u001b[1;33m)\u001b[0m\u001b[1;33m\u001b[0m\u001b[0m\n\u001b[1;32m----> 3\u001b[1;33m     \u001b[0mnum3\u001b[0m \u001b[1;33m=\u001b[0m \u001b[0mnum1\u001b[0m \u001b[1;33m+\u001b[0m \u001b[0mnum2\u001b[0m\u001b[1;33m\u001b[0m\u001b[0m\n\u001b[0m\u001b[0;32m      4\u001b[0m     \u001b[1;32mreturn\u001b[0m \u001b[0mnum3\u001b[0m\u001b[1;33m\u001b[0m\u001b[0m\n\u001b[0;32m      5\u001b[0m     \u001b[0mprint\u001b[0m\u001b[1;33m(\u001b[0m\u001b[1;34m\"Statement after return\"\u001b[0m\u001b[1;33m)\u001b[0m\u001b[1;33m\u001b[0m\u001b[0m\n",
      "\u001b[1;31mTypeError\u001b[0m: unsupported operand type(s) for +: 'int' and 'str'"
     ]
    }
   ],
   "source": [
    "def add(num1,num2):\n",
    "    print(num1,num2)\n",
    "    num3 = num1 + num2 \n",
    "    return num3\n",
    "    print(\"Statement after return\")\n",
    "\n",
    "result = add(10,20)\n",
    "print(result)\n",
    "\n",
    "result = add(10,\"String\")\n",
    "print(result)\n",
    "\n",
    "result = add([10,20,30,40],[100,200,300])\n",
    "print(result)\n"
   ]
  },
  {
   "cell_type": "code",
   "execution_count": 9,
   "metadata": {},
   "outputs": [
    {
     "name": "stdout",
     "output_type": "stream",
     "text": [
      "True\n"
     ]
    }
   ],
   "source": [
    "def linear_search(l,key):\n",
    "    for value in l:\n",
    "        if value == key:\n",
    "            return True\n",
    "    else:\n",
    "        return False\n",
    "\n",
    "l = [10,20,30,40,50,60]\n",
    "key = 400\n",
    "result = linear_search(l,key)\n",
    "print(result)"
   ]
  },
  {
   "cell_type": "code",
   "execution_count": 10,
   "metadata": {},
   "outputs": [
    {
     "name": "stdout",
     "output_type": "stream",
     "text": [
      "95\n"
     ]
    }
   ],
   "source": [
    "def sec_max(l):\n",
    "    s = set(l)\n",
    "    l2 = sorted(s)\n",
    "    return l2[-2]\n",
    "\n",
    "l = [100,50,45,10,20,45,45,85,75,100,95,45]\n",
    "\n",
    "num = sec_max(l)\n",
    "print(num)"
   ]
  },
  {
   "cell_type": "code",
   "execution_count": 16,
   "metadata": {},
   "outputs": [
    {
     "name": "stdout",
     "output_type": "stream",
     "text": [
      "[[101, 202, 303], [404, 505, 606], [707, 808, 909]]\n"
     ]
    }
   ],
   "source": [
    "def add_matrix(l1,l2):\n",
    "    l5 = []\n",
    "    for val1,val2 in zip(l1,l2):\n",
    "#         print(val1,val2)\n",
    "        l4 = []\n",
    "        for index in range(0,len(val1)):\n",
    "#             print(val1[index],val2[index])\n",
    "            l4.append(val1[index]+val2[index])\n",
    "        l5.append(l4)\n",
    "    return l5\n",
    "\n",
    "l1 = [[1,2,3],[4,5,6],[7,8,9]]\n",
    "l2 = [[100,200,300],[400,500,600],[700,800,900]]\n",
    "\n",
    "print(add_matrix(l1,l2))"
   ]
  },
  {
   "cell_type": "code",
   "execution_count": null,
   "metadata": {},
   "outputs": [],
   "source": [
    "1 2 3      100 200 300    101 202 303 \n",
    "4 5 6      400 500 600    401 502 603\n",
    "7 8 9      700 800 900    701 802 903"
   ]
  },
  {
   "cell_type": "code",
   "execution_count": null,
   "metadata": {},
   "outputs": [],
   "source": [
    "Different parameter passing techniques :\n",
    "    1 Positional argument \n",
    "    2 Default args \n",
    "    3 Variable length positional *args \n",
    "    4 keyword args\n",
    "    5 variable length keyword \n",
    "    6 Unpacking "
   ]
  },
  {
   "cell_type": "code",
   "execution_count": 36,
   "metadata": {},
   "outputs": [
    {
     "ename": "TypeError",
     "evalue": "add() takes 1 positional argument but 4 were given",
     "output_type": "error",
     "traceback": [
      "\u001b[1;31m---------------------------------------------------------------------------\u001b[0m",
      "\u001b[1;31mTypeError\u001b[0m                                 Traceback (most recent call last)",
      "\u001b[1;32m<ipython-input-36-e5b7aaaaa0f6>\u001b[0m in \u001b[0;36m<module>\u001b[1;34m()\u001b[0m\n\u001b[0;32m      3\u001b[0m \u001b[1;31m#     return num1+num2+num3\u001b[0m\u001b[1;33m\u001b[0m\u001b[1;33m\u001b[0m\u001b[0m\n\u001b[0;32m      4\u001b[0m \u001b[1;33m\u001b[0m\u001b[0m\n\u001b[1;32m----> 5\u001b[1;33m \u001b[0mprint\u001b[0m\u001b[1;33m(\u001b[0m\u001b[0madd\u001b[0m\u001b[1;33m(\u001b[0m\u001b[1;36m10\u001b[0m\u001b[1;33m,\u001b[0m\u001b[1;36m20\u001b[0m\u001b[1;33m,\u001b[0m\u001b[1;36m30\u001b[0m\u001b[1;33m,\u001b[0m\u001b[1;36m40\u001b[0m\u001b[1;33m)\u001b[0m\u001b[1;33m)\u001b[0m\u001b[1;33m\u001b[0m\u001b[0m\n\u001b[0m\u001b[0;32m      6\u001b[0m \u001b[0mprint\u001b[0m\u001b[1;33m(\u001b[0m\u001b[0madd\u001b[0m\u001b[1;33m(\u001b[0m\u001b[1;36m10\u001b[0m\u001b[1;33m,\u001b[0m\u001b[1;36m20\u001b[0m\u001b[1;33m,\u001b[0m\u001b[1;36m30\u001b[0m\u001b[1;33m,\u001b[0m\u001b[1;36m40\u001b[0m\u001b[1;33m,\u001b[0m\u001b[1;36m50\u001b[0m\u001b[1;33m,\u001b[0m\u001b[1;36m60\u001b[0m\u001b[1;33m)\u001b[0m\u001b[1;33m)\u001b[0m\u001b[1;33m\u001b[0m\u001b[0m\n\u001b[0;32m      7\u001b[0m \u001b[0mprint\u001b[0m\u001b[1;33m(\u001b[0m\u001b[0madd\u001b[0m\u001b[1;33m(\u001b[0m\u001b[1;36m10\u001b[0m\u001b[1;33m,\u001b[0m\u001b[1;36m20\u001b[0m\u001b[1;33m)\u001b[0m\u001b[1;33m)\u001b[0m\u001b[1;33m\u001b[0m\u001b[0m\n",
      "\u001b[1;31mTypeError\u001b[0m: add() takes 1 positional argument but 4 were given"
     ]
    }
   ],
   "source": [
    "def add(*args):\n",
    "    print(args)\n",
    "#     return num1+num2+num3\n",
    "\n",
    "print(add(10,20,30,40))\n",
    "print(add(10,20,30,40,50,60))\n",
    "print(add(10,20))\n",
    "      "
   ]
  },
  {
   "cell_type": "code",
   "execution_count": 27,
   "metadata": {},
   "outputs": [
    {
     "name": "stdout",
     "output_type": "stream",
     "text": [
      "10,20 Hi\n",
      "Hello\n",
      "Help on built-in function print in module builtins:\n",
      "\n",
      "print(...)\n",
      "    print(value, ..., sep=' ', end='\\n', file=sys.stdout, flush=False)\n",
      "    \n",
      "    Prints the values to a stream, or to sys.stdout by default.\n",
      "    Optional keyword arguments:\n",
      "    file:  a file-like object (stream); defaults to the current sys.stdout.\n",
      "    sep:   string inserted between values, default a space.\n",
      "    end:   string appended after the last value, default a newline.\n",
      "    flush: whether to forcibly flush the stream.\n",
      "\n"
     ]
    }
   ],
   "source": [
    "print(10,20,sep=\",\",end=\" \")\n",
    "print(\"Hi\")\n",
    "print(\"Hello\")\n",
    "help(print)"
   ]
  },
  {
   "cell_type": "code",
   "execution_count": 49,
   "metadata": {},
   "outputs": [
    {
     "name": "stdout",
     "output_type": "stream",
     "text": [
      "[111, 222, 333, 444, 555]\n",
      "[222, 444, 666, 888, 1110]\n",
      "[444, 888, 1332, 1776, 2220]\n"
     ]
    }
   ],
   "source": [
    "def add(*args):\n",
    "\n",
    "    l = []\n",
    "    for index in range(0,len(args[0])):    \n",
    "        sum = 0\n",
    "        for value in args:\n",
    "            sum += value[index]\n",
    "        l.append(sum)\n",
    "    return l\n",
    "    \n",
    "l1 = [10,20,30,40,50]\n",
    "l2 = [1,2,3,4]\n",
    "l3 = [100,200,300,400,500]\n",
    "\n",
    "l4 = add(l1,l2,l3)\n",
    "print(l4)\n",
    "l5 = add(l1,l2,l3,l4)\n",
    "print(l5)\n",
    "l6 = add(l1,l2,l3,l4,l5)\n",
    "print(l6)"
   ]
  },
  {
   "cell_type": "code",
   "execution_count": 54,
   "metadata": {},
   "outputs": [
    {
     "name": "stdout",
     "output_type": "stream",
     "text": [
      "Valid user\n",
      "Valid user\n"
     ]
    }
   ],
   "source": [
    "def user_auth(username,password):\n",
    "    if username == 'abc' and password ==\"abc@123\":\n",
    "        print(\"Valid user\")\n",
    "    else:\n",
    "        print(\"Invalid user\")\n",
    "        \n",
    "user_auth(\"abc\",\"abc@123\")\n",
    "user_auth(password=\"abc@123\",username=\"abc\")"
   ]
  },
  {
   "cell_type": "code",
   "execution_count": 57,
   "metadata": {},
   "outputs": [
    {
     "name": "stdout",
     "output_type": "stream",
     "text": [
      "10,20 "
     ]
    }
   ],
   "source": [
    "print(10,20,end=\" \",sep=\",\")"
   ]
  },
  {
   "cell_type": "code",
   "execution_count": 60,
   "metadata": {},
   "outputs": [
    {
     "name": "stdout",
     "output_type": "stream",
     "text": [
      "[50, 40, 30, 20, 10]\n"
     ]
    }
   ],
   "source": [
    "l = [10,20,30,40,50]\n",
    "l.sort(reverse=True)\n",
    "print(l)"
   ]
  },
  {
   "cell_type": "code",
   "execution_count": 67,
   "metadata": {},
   "outputs": [
    {
     "name": "stdout",
     "output_type": "stream",
     "text": [
      "10 20 (30, 40, 50) {'username': 'abc', 'password': 'abc@123', 'email': 'abc@gmail.com', 'contact': '81234789'}\n",
      "10 20 (30,) {'username': 'abc', 'password': 'abc@123', 'email': 'abc@gmail.com'}\n",
      "0 0 () {'username': 'abc', 'password': 'abc@123', 'contact': '81234789'}\n"
     ]
    }
   ],
   "source": [
    "def user_details(num1=0,num2=0,*args,**kwargs):\n",
    "    print(num1,num2,args,kwargs)\n",
    "\n",
    "user_details(10,20,30,40,50,username=\"abc\",password=\"abc@123\",email = \"abc@gmail.com\",contact=\"81234789\")\n",
    "user_details(10,20,30,username=\"abc\",password=\"abc@123\",email = \"abc@gmail.com\")\n",
    "user_details(username=\"abc\",password=\"abc@123\",contact=\"81234789\")"
   ]
  },
  {
   "cell_type": "code",
   "execution_count": 72,
   "metadata": {},
   "outputs": [
    {
     "ename": "TypeError",
     "evalue": "add() got an unexpected keyword argument 'num4'",
     "output_type": "error",
     "traceback": [
      "\u001b[1;31m---------------------------------------------------------------------------\u001b[0m",
      "\u001b[1;31mTypeError\u001b[0m                                 Traceback (most recent call last)",
      "\u001b[1;32m<ipython-input-72-b78c8f6500e9>\u001b[0m in \u001b[0;36m<module>\u001b[1;34m()\u001b[0m\n\u001b[0;32m      4\u001b[0m \u001b[0md\u001b[0m \u001b[1;33m=\u001b[0m \u001b[1;33m{\u001b[0m\u001b[1;34m'num4'\u001b[0m\u001b[1;33m:\u001b[0m\u001b[1;36m10\u001b[0m\u001b[1;33m,\u001b[0m\u001b[1;34m'num2'\u001b[0m\u001b[1;33m:\u001b[0m\u001b[1;36m20\u001b[0m\u001b[1;33m,\u001b[0m\u001b[1;34m\"num1\"\u001b[0m\u001b[1;33m:\u001b[0m\u001b[1;36m30\u001b[0m\u001b[1;33m}\u001b[0m\u001b[1;33m\u001b[0m\u001b[0m\n\u001b[0;32m      5\u001b[0m \u001b[0ml\u001b[0m \u001b[1;33m=\u001b[0m \u001b[1;33m[\u001b[0m\u001b[1;36m10\u001b[0m\u001b[1;33m,\u001b[0m\u001b[1;36m20\u001b[0m\u001b[1;33m,\u001b[0m\u001b[1;36m30\u001b[0m\u001b[1;33m]\u001b[0m\u001b[1;33m\u001b[0m\u001b[0m\n\u001b[1;32m----> 6\u001b[1;33m \u001b[0madd\u001b[0m\u001b[1;33m(\u001b[0m\u001b[1;33m**\u001b[0m\u001b[0md\u001b[0m\u001b[1;33m)\u001b[0m\u001b[1;33m\u001b[0m\u001b[0m\n\u001b[0m",
      "\u001b[1;31mTypeError\u001b[0m: add() got an unexpected keyword argument 'num4'"
     ]
    }
   ],
   "source": [
    "def add(num1,num2,num3):\n",
    "    print(num1,num2,num3)\n",
    "\n",
    "d = {'num4':10,'num2':20,\"num1\":30}   \n",
    "l = [10,20,30]    \n",
    "add(**d)\n",
    "\n"
   ]
  },
  {
   "cell_type": "code",
   "execution_count": 4,
   "metadata": {},
   "outputs": [
    {
     "name": "stdout",
     "output_type": "stream",
     "text": [
      "100\n",
      "200\n",
      "200\n"
     ]
    }
   ],
   "source": [
    "def printVal():\n",
    "    global num1\n",
    "    print(num1)\n",
    "    num1 = 200\n",
    "    print(num1)\n",
    "\n",
    "num1 = 100    \n",
    "printVal()\n",
    "print(num1)"
   ]
  },
  {
   "cell_type": "code",
   "execution_count": null,
   "metadata": {},
   "outputs": [],
   "source": [
    "factorial(5) => 5 * 4!\n",
    "                5 * 4 * 3!\n",
    "                5 * 4 * 3 * 2 !\n",
    "                5 * 4 * 3 * 2 * 1!\n",
    "                                1"
   ]
  },
  {
   "cell_type": "code",
   "execution_count": 5,
   "metadata": {},
   "outputs": [
    {
     "name": "stdout",
     "output_type": "stream",
     "text": [
      "120\n"
     ]
    }
   ],
   "source": [
    "def fact(num):\n",
    "    if num == 1:\n",
    "        return 1 \n",
    "    else:\n",
    "        return num * fact(num-1)\n",
    "\n",
    "print(fact(5))"
   ]
  },
  {
   "cell_type": "code",
   "execution_count": null,
   "metadata": {},
   "outputs": [],
   "source": [
    "fact(5) = > return 5 * 24 = 120 \n",
    "                return 4 * 6 = 24 \n",
    "                    return 3 * 2 = 6 \n",
    "                        return 2 *  1 = 2 \n",
    "                                   return  1"
   ]
  },
  {
   "cell_type": "code",
   "execution_count": 13,
   "metadata": {},
   "outputs": [
    {
     "name": "stdout",
     "output_type": "stream",
     "text": [
      "False\n"
     ]
    }
   ],
   "source": [
    "def binary_serach(l,key):\n",
    "    \n",
    "    if len(l) == 0:\n",
    "        return False\n",
    "    else:\n",
    "        mid = len(l) // 2 \n",
    "\n",
    "        if key == l[mid]:\n",
    "            return True\n",
    "        elif key < l[mid]:\n",
    "            return binary_serach(l[0:mid],key)\n",
    "        else:\n",
    "            return binary_serach(l[mid+1:],key)\n",
    "\n",
    "\n",
    "\n",
    "l = [10,20,30,40,50,60,70,80]\n",
    "key = 100\n",
    "print(binary_serach(l,key))"
   ]
  },
  {
   "cell_type": "code",
   "execution_count": null,
   "metadata": {},
   "outputs": [],
   "source": [
    "Binary_search(l,key) =\n",
    "           retrun  binary_serach([60,70,80],60)\n",
    "                True \n",
    "                    return True "
   ]
  },
  {
   "cell_type": "code",
   "execution_count": null,
   "metadata": {},
   "outputs": [],
   "source": [
    "1 sorted list \n",
    "2 mid = len(l) /2 \n",
    "        key == mid \n",
    "                True \n",
    "        if key < mid\n",
    "        \n",
    "        if key > mid \n",
    "                key = 60\n",
    "            l = [60,70,80]\n",
    "            mid = 1 \n",
    "            70 == 60 \n",
    "            \n",
    "            if key < mid \n",
    "                key 60 \n",
    "                l = [60]\n",
    "                    mid = 1 / 2 =  0 \n",
    "                    \n",
    "            \n",
    "            key > mid "
   ]
  }
 ],
 "metadata": {
  "kernelspec": {
   "display_name": "Python 3",
   "language": "python",
   "name": "python3"
  },
  "language_info": {
   "codemirror_mode": {
    "name": "ipython",
    "version": 3
   },
   "file_extension": ".py",
   "mimetype": "text/x-python",
   "name": "python",
   "nbconvert_exporter": "python",
   "pygments_lexer": "ipython3",
   "version": "3.6.5"
  }
 },
 "nbformat": 4,
 "nbformat_minor": 2
}
