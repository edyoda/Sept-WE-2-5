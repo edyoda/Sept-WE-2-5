{
 "cells": [
  {
   "cell_type": "code",
   "execution_count": null,
   "metadata": {},
   "outputs": [],
   "source": [
    "modules : .py "
   ]
  },
  {
   "cell_type": "code",
   "execution_count": 1,
   "metadata": {},
   "outputs": [
    {
     "ename": "ModuleNotFoundError",
     "evalue": "No module named 'bs'",
     "output_type": "error",
     "traceback": [
      "\u001b[1;31m---------------------------------------------------------------------------\u001b[0m",
      "\u001b[1;31mModuleNotFoundError\u001b[0m                       Traceback (most recent call last)",
      "\u001b[1;32m<ipython-input-1-19204b30b56e>\u001b[0m in \u001b[0;36m<module>\u001b[1;34m()\u001b[0m\n\u001b[1;32m----> 1\u001b[1;33m \u001b[1;32mimport\u001b[0m \u001b[0mbs\u001b[0m\u001b[1;33m\u001b[0m\u001b[0m\n\u001b[0m",
      "\u001b[1;31mModuleNotFoundError\u001b[0m: No module named 'bs'"
     ]
    }
   ],
   "source": [
    "import bs "
   ]
  },
  {
   "cell_type": "code",
   "execution_count": null,
   "metadata": {},
   "outputs": [],
   "source": [
    "__ini__.py = > python pkg "
   ]
  },
  {
   "cell_type": "code",
   "execution_count": null,
   "metadata": {},
   "outputs": [],
   "source": [
    "bs.py = > python bs.py \n",
    "__name__ = > __main__"
   ]
  },
  {
   "cell_type": "code",
   "execution_count": 7,
   "metadata": {},
   "outputs": [
    {
     "name": "stdout",
     "output_type": "stream",
     "text": [
      "__main__\n",
      "pkg2.bs\n"
     ]
    }
   ],
   "source": [
    "from pkg2 import bs\n",
    "# print(__name__)\n",
    "# print(bs.__name__)"
   ]
  },
  {
   "cell_type": "code",
   "execution_count": 9,
   "metadata": {},
   "outputs": [
    {
     "name": "stdout",
     "output_type": "stream",
     "text": [
      "True\n"
     ]
    }
   ],
   "source": [
    "l = [100,200,300,400,500,600]\n",
    "key = 100\n",
    "print(bs.binary_serach(l,key))\n"
   ]
  },
  {
   "cell_type": "code",
   "execution_count": 1,
   "metadata": {},
   "outputs": [
    {
     "name": "stdout",
     "output_type": "stream",
     "text": [
      "True\n"
     ]
    }
   ],
   "source": [
    "from pkg2.bs import binary_serach\n",
    "\n",
    "l = [100,200,300,400,500,600]\n",
    "key = 100\n",
    "print(binary_serach(l,key))\n"
   ]
  },
  {
   "cell_type": "code",
   "execution_count": 1,
   "metadata": {},
   "outputs": [],
   "source": [
    "import pkg2.bs\n",
    "\n",
    "l = [100,200,300,400,500,600]\n",
    "key = 100\n",
    "print(pkg2.bs.binary_serach(l,key))\n"
   ]
  },
  {
   "cell_type": "code",
   "execution_count": null,
   "metadata": {},
   "outputs": [],
   "source": [
    "import pkg/module \n",
    "from pkg.module import func/class\n"
   ]
  },
  {
   "cell_type": "code",
   "execution_count": 1,
   "metadata": {},
   "outputs": [
    {
     "name": "stdout",
     "output_type": "stream",
     "text": [
      "Help on module pkg2.bs in pkg2:\n",
      "\n",
      "NAME\n",
      "    pkg2.bs\n",
      "\n",
      "DESCRIPTION\n",
      "    BS implementation \n",
      "    Created by \n",
      "    Modified by \n",
      "    Date\n",
      "\n",
      "FUNCTIONS\n",
      "    binary_serach(l, key)\n",
      "        BS fun input takes list and key \n",
      "        return true if elemnt present else False\n",
      "\n",
      "FILE\n",
      "    e:\\sessions code\\sept-we-2-5\\pkg1\\pkg2\\bs.py\n",
      "\n",
      "\n"
     ]
    }
   ],
   "source": [
    "from pkg2 import bs\n",
    "\n",
    "help(bs)"
   ]
  }
 ],
 "metadata": {
  "kernelspec": {
   "display_name": "Python 3",
   "language": "python",
   "name": "python3"
  },
  "language_info": {
   "codemirror_mode": {
    "name": "ipython",
    "version": 3
   },
   "file_extension": ".py",
   "mimetype": "text/x-python",
   "name": "python",
   "nbconvert_exporter": "python",
   "pygments_lexer": "ipython3",
   "version": "3.6.5"
  }
 },
 "nbformat": 4,
 "nbformat_minor": 2
}
