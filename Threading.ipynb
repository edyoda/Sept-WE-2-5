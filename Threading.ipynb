{
 "cells": [
  {
   "cell_type": "code",
   "execution_count": 1,
   "metadata": {},
   "outputs": [
    {
     "name": "stdout",
     "output_type": "stream",
     "text": [
      "inside square function\n",
      "Inside multiply\n",
      "30\n",
      "100\n"
     ]
    }
   ],
   "source": [
    "import threading\n",
    "import time\n",
    "def square(num):\n",
    "    print(\"inside square function\")\n",
    "    time.sleep(10)\n",
    "    print(num * num)\n",
    "    \n",
    "def multiply(num1,num2):\n",
    "    print(\"Inside multiply\")\n",
    "    print(num1*num2)\n",
    "    \n",
    "# square(10)\n",
    "# multiply(5,6)\n",
    "t1 = threading.Thread(target = square, args =(10,),daemon=True)\n",
    "t2 = threading.Thread(target = multiply, args = (5,6))\n",
    "\n",
    "t1.start()\n",
    "t2.start()"
   ]
  },
  {
   "cell_type": "code",
   "execution_count": 9,
   "metadata": {
    "scrolled": true
   },
   "outputs": [
    {
     "name": "stdout",
     "output_type": "stream",
     "text": [
      "inside square function\n",
      "100\n",
      "Inside multiply\n",
      "105\n",
      "110\n",
      "115\n",
      "120\n",
      "122\n",
      "124\n",
      "126\n"
     ]
    }
   ],
   "source": [
    "import threading\n",
    "import time\n",
    "def square(num):\n",
    "    global count\n",
    "    print(\"inside square function\")\n",
    "    lock.acquire()\n",
    "    lock.acquire()\n",
    "    for value in range(1,5):\n",
    "        print(count)\n",
    "        count+=5\n",
    "        time.sleep(2)\n",
    "    lock.release()\n",
    "    lock.release()\n",
    "    \n",
    "        \n",
    "def multiply(num1,num2):\n",
    "    global count\n",
    "    print(\"Inside multiply\")\n",
    "    \n",
    "    lock.acquire()\n",
    "    for value in range(1,5):\n",
    "        print(count)\n",
    "        count+=2\n",
    "        time.sleep(1)\n",
    "    lock.release()\n",
    "    \n",
    "count = 100    \n",
    "lock = threading.RLock()\n",
    "t1 = threading.Thread(target = square, args =(10,))\n",
    "t2 = threading.Thread(target = multiply, args = (5,6))\n",
    "\n",
    "t1.start()\n",
    "t2.start()"
   ]
  },
  {
   "cell_type": "code",
   "execution_count": null,
   "metadata": {},
   "outputs": [],
   "source": []
  },
  {
   "cell_type": "code",
   "execution_count": null,
   "metadata": {},
   "outputs": [],
   "source": [
    "process .py\n",
    "\n",
    "t1\n",
    "t2\n",
    "\n",
    "Deadlock \n",
    "race condition"
   ]
  },
  {
   "cell_type": "code",
   "execution_count": null,
   "metadata": {},
   "outputs": [],
   "source": [
    "db acces \n",
    "sql lite \n",
    "mongo db \n",
    "\n",
    "socket chat\n",
    "pdb \n",
    "sys os "
   ]
  }
 ],
 "metadata": {
  "kernelspec": {
   "display_name": "Python 3",
   "language": "python",
   "name": "python3"
  },
  "language_info": {
   "codemirror_mode": {
    "name": "ipython",
    "version": 3
   },
   "file_extension": ".py",
   "mimetype": "text/x-python",
   "name": "python",
   "nbconvert_exporter": "python",
   "pygments_lexer": "ipython3",
   "version": "3.6.5"
  }
 },
 "nbformat": 4,
 "nbformat_minor": 2
}
