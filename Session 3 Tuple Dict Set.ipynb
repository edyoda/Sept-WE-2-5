{
 "cells": [
  {
   "cell_type": "code",
   "execution_count": null,
   "metadata": {},
   "outputs": [],
   "source": [
    "str => immutable \n",
    "list =>mutable \n",
    "tuple => "
   ]
  },
  {
   "cell_type": "code",
   "execution_count": null,
   "metadata": {},
   "outputs": [],
   "source": [
    "Tuple : \n",
    "    t =(10,20,30,\"Python\")\n",
    "    immutbale => no methods to add update and delete \n",
    "    ordered => indexing and slicing "
   ]
  },
  {
   "cell_type": "code",
   "execution_count": 2,
   "metadata": {},
   "outputs": [
    {
     "name": "stdout",
     "output_type": "stream",
     "text": [
      "<class 'tuple'>\n"
     ]
    }
   ],
   "source": [
    "t = (10,20,30)\n",
    "print(type(t))"
   ]
  },
  {
   "cell_type": "code",
   "execution_count": null,
   "metadata": {},
   "outputs": [],
   "source": [
    "num1,num2 = 100,200"
   ]
  },
  {
   "cell_type": "code",
   "execution_count": 3,
   "metadata": {},
   "outputs": [
    {
     "name": "stdout",
     "output_type": "stream",
     "text": [
      "(100, 200)\n"
     ]
    }
   ],
   "source": [
    "num1 = 100,200 \n",
    "print(num1)"
   ]
  },
  {
   "cell_type": "code",
   "execution_count": 7,
   "metadata": {},
   "outputs": [
    {
     "name": "stdout",
     "output_type": "stream",
     "text": [
      "0 10\n",
      "1 20\n",
      "2 30\n",
      "3 40\n",
      "4 50\n"
     ]
    }
   ],
   "source": [
    "l = [10,20,30,40,50]\n",
    "for t in enumerate(l):\n",
    "    print(t[0],t[1])"
   ]
  },
  {
   "cell_type": "code",
   "execution_count": 9,
   "metadata": {},
   "outputs": [
    {
     "ename": "ValueError",
     "evalue": "too many values to unpack (expected 2)",
     "output_type": "error",
     "traceback": [
      "\u001b[1;31m---------------------------------------------------------------------------\u001b[0m",
      "\u001b[1;31mValueError\u001b[0m                                Traceback (most recent call last)",
      "\u001b[1;32m<ipython-input-9-1cee08ff0521>\u001b[0m in \u001b[0;36m<module>\u001b[1;34m()\u001b[0m\n\u001b[1;32m----> 1\u001b[1;33m \u001b[0mnum1\u001b[0m\u001b[1;33m,\u001b[0m\u001b[0mnum2\u001b[0m \u001b[1;33m=\u001b[0m \u001b[1;33m(\u001b[0m\u001b[1;36m100\u001b[0m\u001b[1;33m,\u001b[0m\u001b[1;36m200\u001b[0m\u001b[1;33m,\u001b[0m\u001b[1;36m300\u001b[0m\u001b[1;33m)\u001b[0m\u001b[1;33m\u001b[0m\u001b[0m\n\u001b[0m\u001b[0;32m      2\u001b[0m \u001b[0mprint\u001b[0m\u001b[1;33m(\u001b[0m\u001b[0mnum1\u001b[0m\u001b[1;33m)\u001b[0m\u001b[1;33m\u001b[0m\u001b[0m\n\u001b[0;32m      3\u001b[0m \u001b[0mprint\u001b[0m\u001b[1;33m(\u001b[0m\u001b[0mnum2\u001b[0m\u001b[1;33m)\u001b[0m\u001b[1;33m\u001b[0m\u001b[0m\n",
      "\u001b[1;31mValueError\u001b[0m: too many values to unpack (expected 2)"
     ]
    }
   ],
   "source": [
    "num1,num2 = (100,200,300)\n",
    "print(num1)\n",
    "print(num2)"
   ]
  },
  {
   "cell_type": "code",
   "execution_count": 16,
   "metadata": {},
   "outputs": [
    {
     "name": "stdout",
     "output_type": "stream",
     "text": [
      "50\n",
      "(50, 40, 30, 20, 10)\n"
     ]
    }
   ],
   "source": [
    "t = (10,20,30,40,50)\n",
    "print(t[-1])\n",
    "print(t[::-1])"
   ]
  },
  {
   "cell_type": "code",
   "execution_count": 17,
   "metadata": {},
   "outputs": [
    {
     "name": "stdout",
     "output_type": "stream",
     "text": [
      "Help on class tuple in module builtins:\n",
      "\n",
      "class tuple(object)\n",
      " |  tuple() -> empty tuple\n",
      " |  tuple(iterable) -> tuple initialized from iterable's items\n",
      " |  \n",
      " |  If the argument is a tuple, the return value is the same object.\n",
      " |  \n",
      " |  Methods defined here:\n",
      " |  \n",
      " |  __add__(self, value, /)\n",
      " |      Return self+value.\n",
      " |  \n",
      " |  __contains__(self, key, /)\n",
      " |      Return key in self.\n",
      " |  \n",
      " |  __eq__(self, value, /)\n",
      " |      Return self==value.\n",
      " |  \n",
      " |  __ge__(self, value, /)\n",
      " |      Return self>=value.\n",
      " |  \n",
      " |  __getattribute__(self, name, /)\n",
      " |      Return getattr(self, name).\n",
      " |  \n",
      " |  __getitem__(self, key, /)\n",
      " |      Return self[key].\n",
      " |  \n",
      " |  __getnewargs__(...)\n",
      " |  \n",
      " |  __gt__(self, value, /)\n",
      " |      Return self>value.\n",
      " |  \n",
      " |  __hash__(self, /)\n",
      " |      Return hash(self).\n",
      " |  \n",
      " |  __iter__(self, /)\n",
      " |      Implement iter(self).\n",
      " |  \n",
      " |  __le__(self, value, /)\n",
      " |      Return self<=value.\n",
      " |  \n",
      " |  __len__(self, /)\n",
      " |      Return len(self).\n",
      " |  \n",
      " |  __lt__(self, value, /)\n",
      " |      Return self<value.\n",
      " |  \n",
      " |  __mul__(self, value, /)\n",
      " |      Return self*value.n\n",
      " |  \n",
      " |  __ne__(self, value, /)\n",
      " |      Return self!=value.\n",
      " |  \n",
      " |  __new__(*args, **kwargs) from builtins.type\n",
      " |      Create and return a new object.  See help(type) for accurate signature.\n",
      " |  \n",
      " |  __repr__(self, /)\n",
      " |      Return repr(self).\n",
      " |  \n",
      " |  __rmul__(self, value, /)\n",
      " |      Return self*value.\n",
      " |  \n",
      " |  count(...)\n",
      " |      T.count(value) -> integer -- return number of occurrences of value\n",
      " |  \n",
      " |  index(...)\n",
      " |      T.index(value, [start, [stop]]) -> integer -- return first index of value.\n",
      " |      Raises ValueError if the value is not present.\n",
      "\n"
     ]
    }
   ],
   "source": [
    "help(tuple)"
   ]
  },
  {
   "cell_type": "code",
   "execution_count": 19,
   "metadata": {},
   "outputs": [
    {
     "name": "stdout",
     "output_type": "stream",
     "text": [
      "3\n",
      "1\n"
     ]
    }
   ],
   "source": [
    "t = (10,20,20,20,30,40)\n",
    "print(t.count(20))\n",
    "print(t.index(20))"
   ]
  },
  {
   "cell_type": "code",
   "execution_count": null,
   "metadata": {},
   "outputs": [],
   "source": [
    "Dict : \n",
    "    {key:value,key2:value}\n",
    "    mutable => add upadte and delete the key value pairs \n",
    "    all keys should be unique \n",
    "    data type of keys should be immutable => int,float,str,tuple "
   ]
  },
  {
   "cell_type": "code",
   "execution_count": 5,
   "metadata": {},
   "outputs": [
    {
     "name": "stdout",
     "output_type": "stream",
     "text": [
      "{'name': 'pqr', 'email': 'abc@gmail.com', 'sal': '60222'}\n"
     ]
    }
   ],
   "source": [
    "d = {'name':\"abc\",'email':\"abc@gmail.com\",'sal':\"60222\",'name':\"pqr\"}\n",
    "print(d)"
   ]
  },
  {
   "cell_type": "code",
   "execution_count": null,
   "metadata": {},
   "outputs": [],
   "source": [
    "hash table \n",
    "\n",
    "hash(key) = > hash index \n",
    "\n",
    "hash index key value \n",
    "4 sal       52000\n",
    "5 name      abc\n",
    "\n",
    "O(1)\n",
    "\n",
    "\n",
    "\n",
    "\n"
   ]
  },
  {
   "cell_type": "code",
   "execution_count": 2,
   "metadata": {},
   "outputs": [
    {
     "name": "stdout",
     "output_type": "stream",
     "text": [
      "abc\n",
      "Key not present\n",
      "35\n",
      "{'name': 'abc', 'email': 'abc@gmail.com', 'sal': '60222', 'age': 35}\n"
     ]
    }
   ],
   "source": [
    "print(d['name'])\n",
    "print(d.get('age',\"Key not present\"))\n",
    "print(d.setdefault('age',35))\n",
    "print(d)"
   ]
  },
  {
   "cell_type": "code",
   "execution_count": 3,
   "metadata": {},
   "outputs": [
    {
     "name": "stdout",
     "output_type": "stream",
     "text": [
      "{'name': 'abc', 'email': 'abc@gmail.com', 'sal': '60222', 'contact': 987654321}\n",
      "{'name': 'abc', 'email': 'abc@gmail.com', 'sal': '60222', 'contact': 8888888888}\n"
     ]
    }
   ],
   "source": [
    "d['contact'] = 987654321\n",
    "print(d)\n",
    "\n",
    "d['contact'] = 8888888888\n",
    "print(d)"
   ]
  },
  {
   "cell_type": "code",
   "execution_count": 7,
   "metadata": {},
   "outputs": [
    {
     "name": "stdout",
     "output_type": "stream",
     "text": [
      "97\n",
      "a\n"
     ]
    }
   ],
   "source": [
    "print(ord('a'))\n",
    "print(chr(97))"
   ]
  },
  {
   "cell_type": "code",
   "execution_count": 8,
   "metadata": {},
   "outputs": [
    {
     "name": "stdout",
     "output_type": "stream",
     "text": [
      "{'a': 97, 'b': 98, 'c': 99, 'd': 100, 'e': 101, 'f': 102, 'g': 103, 'h': 104, 'i': 105, 'j': 106, 'k': 107, 'l': 108, 'm': 109, 'n': 110, 'o': 111, 'p': 112, 'q': 113, 'r': 114, 's': 115, 't': 116, 'u': 117, 'v': 118, 'w': 119, 'x': 120, 'y': 121, 'z': 122}\n"
     ]
    }
   ],
   "source": [
    "d1 = {}\n",
    "for value in range(97,123):\n",
    "    d1.setdefault(chr(value),value)\n",
    "print(d1)"
   ]
  },
  {
   "cell_type": "code",
   "execution_count": 10,
   "metadata": {},
   "outputs": [
    {
     "name": "stdout",
     "output_type": "stream",
     "text": [
      "{1: 1, 2: 4, 3: 9, 4: 16, 5: 25, 6: 36, 7: 49, 8: 64, 9: 81}\n"
     ]
    }
   ],
   "source": [
    "d2 = {}\n",
    "\n",
    "for key in range(1,10):\n",
    "    d2[key] = key * key\n",
    "    \n",
    "print(d2)"
   ]
  },
  {
   "cell_type": "code",
   "execution_count": 17,
   "metadata": {},
   "outputs": [
    {
     "name": "stdout",
     "output_type": "stream",
     "text": [
      "1 1\n",
      "2 4\n",
      "3 9\n",
      "4 16\n",
      "5 25\n",
      "6 36\n",
      "7 49\n",
      "8 64\n",
      "9 81\n"
     ]
    }
   ],
   "source": [
    "for key,value in d2.items():\n",
    "    print(key,value)"
   ]
  },
  {
   "cell_type": "code",
   "execution_count": 14,
   "metadata": {},
   "outputs": [
    {
     "name": "stdout",
     "output_type": "stream",
     "text": [
      "dict_keys([1, 2, 3, 4, 5, 6, 7, 8, 9])\n"
     ]
    }
   ],
   "source": [
    "print(d2.keys())"
   ]
  },
  {
   "cell_type": "code",
   "execution_count": 15,
   "metadata": {},
   "outputs": [
    {
     "name": "stdout",
     "output_type": "stream",
     "text": [
      "dict_values([1, 4, 9, 16, 25, 36, 49, 64, 81])\n"
     ]
    }
   ],
   "source": [
    "print(d2.values())"
   ]
  },
  {
   "cell_type": "code",
   "execution_count": 16,
   "metadata": {},
   "outputs": [
    {
     "name": "stdout",
     "output_type": "stream",
     "text": [
      "dict_items([(1, 1), (2, 4), (3, 9), (4, 16), (5, 25), (6, 36), (7, 49), (8, 64), (9, 81)])\n"
     ]
    }
   ],
   "source": [
    "print(d2.items())"
   ]
  },
  {
   "cell_type": "code",
   "execution_count": null,
   "metadata": {},
   "outputs": [],
   "source": [
    "d3 = {(1,10):0,(11,20):0,(21,30):0......(91,100):0}\n",
    "l = [50,45,23,11,90,22,55]"
   ]
  },
  {
   "cell_type": "code",
   "execution_count": 18,
   "metadata": {},
   "outputs": [
    {
     "name": "stdout",
     "output_type": "stream",
     "text": [
      "[(1, 10), (2, 20), (3, 30), (4, 40), (5, 50)]\n"
     ]
    }
   ],
   "source": [
    "l = [1,2,3,4,5]\n",
    "l2 = [10,20,30,40,50]\n",
    "print(list(zip(l,l2)))"
   ]
  },
  {
   "cell_type": "code",
   "execution_count": 20,
   "metadata": {},
   "outputs": [
    {
     "name": "stdout",
     "output_type": "stream",
     "text": [
      "[10, 11, 12, 13, 14, 15, 16, 17, 18, 19, 20, 21, 22, 23, 24, 25, 26, 27, 28, 29, 30, 31, 32, 33, 34, 35, 36, 37, 38, 39, 40, 41, 42, 43, 44, 45, 46, 47, 48, 49, 50, 51, 52, 53, 54, 55, 56, 57, 58, 59, 60, 61, 62, 63, 64, 65, 66, 67, 68, 69, 70, 71, 72, 73, 74, 75, 76, 77, 78, 79, 80, 81, 82, 83, 84, 85, 86, 87, 88, 89, 90, 91, 92, 93, 94, 95, 96, 97, 98, 99]\n"
     ]
    }
   ],
   "source": [
    "print(list(range(10,100)))"
   ]
  },
  {
   "cell_type": "code",
   "execution_count": 4,
   "metadata": {},
   "outputs": [
    {
     "name": "stdout",
     "output_type": "stream",
     "text": [
      "{(1, 10): 0, (11, 20): 0, (21, 30): 0, (31, 40): 0, (41, 50): 0, (51, 60): 0, (61, 70): 0, (71, 80): 0, (81, 90): 0, (91, 100): 0}\n",
      "{(1, 10): 0, (11, 20): 1, (21, 30): 2, (31, 40): 0, (41, 50): 2, (51, 60): 1, (61, 70): 0, (71, 80): 0, (81, 90): 1, (91, 100): 0}\n"
     ]
    }
   ],
   "source": [
    "d3 ={}\n",
    "for key in zip(range(1,92,10),range(10,101,10)):    \n",
    "    d3.setdefault(key,0)\n",
    "print(d3)\n",
    "\n",
    "l = [50,45,23,11,90,22,55]\n",
    "# num1 = 45\n",
    "for num1 in l:\n",
    "    for key,value in d3.items():\n",
    "        if num1 >= key[0] and num1 <= key[1]:\n",
    "            d3[key] +=1\n",
    "        \n",
    "print(d3)"
   ]
  },
  {
   "cell_type": "code",
   "execution_count": 8,
   "metadata": {},
   "outputs": [
    {
     "name": "stdout",
     "output_type": "stream",
     "text": [
      "z 6\n"
     ]
    }
   ],
   "source": [
    "s = \"abcdabbbcddddeeewwzzzzzz\"\n",
    "d = {}\n",
    "max_char =''\n",
    "max_count = 0\n",
    "for key in s:\n",
    "    if d.get(key):\n",
    "        if max_count < d.get(key):\n",
    "            max_count = d.get(key)\n",
    "            max_char = key\n",
    "        \n",
    "    else:\n",
    "        d.setdefault(key,s.count(key))\n",
    "        \n",
    "        \n",
    "print(max_char,max_count)"
   ]
  },
  {
   "cell_type": "code",
   "execution_count": null,
   "metadata": {},
   "outputs": [],
   "source": [
    "delete :\n",
    "    popitem \n",
    "    pop\n",
    "    clear \n",
    "    del "
   ]
  },
  {
   "cell_type": "code",
   "execution_count": 6,
   "metadata": {},
   "outputs": [
    {
     "name": "stdout",
     "output_type": "stream",
     "text": [
      "{(1, 10): 0, (11, 20): 1, (21, 30): 2, (31, 40): 0, (41, 50): 2, (51, 60): 1, (61, 70): 0, (71, 80): 0, (81, 90): 1}\n",
      "{(1, 10): 0, (11, 20): 1, (21, 30): 2, (31, 40): 0, (41, 50): 2, (51, 60): 1, (61, 70): 0, (71, 80): 0} ((81, 90), 1)\n"
     ]
    }
   ],
   "source": [
    "print(d3)\n",
    "r = d3.popitem()\n",
    "print(d3,r)\n",
    "\n",
    "# r = d3.pop((1,10))\n",
    "# print(d3,r)\n",
    "\n",
    "# d3.clear()\n",
    "# print(d3)\n",
    "\n",
    "# del  d3\n",
    "# print(d3)"
   ]
  },
  {
   "cell_type": "code",
   "execution_count": 13,
   "metadata": {},
   "outputs": [
    {
     "name": "stdout",
     "output_type": "stream",
     "text": [
      "{10: 1, 20: 2, 30: 3}\n"
     ]
    }
   ],
   "source": [
    "l1 = [10,20,30,40]\n",
    "l2 = [1,2,3]\n",
    "d4 = dict(zip(l1,l2))\n",
    "print(d4)"
   ]
  },
  {
   "cell_type": "code",
   "execution_count": 16,
   "metadata": {},
   "outputs": [
    {
     "name": "stdout",
     "output_type": "stream",
     "text": [
      "{10: 0, 20: 0, 30: 0, 40: 0}\n"
     ]
    }
   ],
   "source": [
    "l =[10,20,30,40]\n",
    "d5 = dict.fromkeys(l,0)\n",
    "print(d5)"
   ]
  },
  {
   "cell_type": "code",
   "execution_count": 19,
   "metadata": {},
   "outputs": [
    {
     "name": "stdout",
     "output_type": "stream",
     "text": [
      "{1: 1, 2: 4, 3: 16, 5: 25}\n"
     ]
    }
   ],
   "source": [
    "d6 = {1:1,2:4,3:9}\n",
    "d7 = {3:16,5:25} \n",
    "\n",
    "d6.update(d7)\n",
    "print(d6)"
   ]
  },
  {
   "cell_type": "code",
   "execution_count": null,
   "metadata": {},
   "outputs": [],
   "source": [
    "dict :\n",
    "    d.setdefault(key,value)\n",
    "    d[key] = value \n",
    "    \n",
    "    update :\n",
    "        d[key] = new value \n",
    "        d.upadte(d3)\n",
    "        \n",
    "    delete :\n",
    "        popitem \n",
    "        pop \n",
    "        clear\n",
    "        del "
   ]
  },
  {
   "cell_type": "code",
   "execution_count": null,
   "metadata": {},
   "outputs": [],
   "source": [
    "Sets :"
   ]
  },
  {
   "cell_type": "code",
   "execution_count": null,
   "metadata": {},
   "outputs": [],
   "source": [
    "A = {10,20,30,40,50}\n",
    "B = {30,40,50,60,70}\n",
    "\n",
    "A union B = {10,20,30,40,50,60,70}\n",
    "\n",
    "A intersection B ={30,40,50}\n",
    "\n",
    "\n",
    "A differebce B = {10,20}\n",
    "B diff A = {60,70}\n",
    "\n",
    "A symm diff b = {10,20,60,70}\n",
    "\n",
    "C = {10,20}\n",
    "\n",
    "C is subset of A \n",
    "A is superset C"
   ]
  },
  {
   "cell_type": "code",
   "execution_count": null,
   "metadata": {},
   "outputs": [],
   "source": [
    "s = {10,20,30,40,50,60}"
   ]
  },
  {
   "cell_type": "code",
   "execution_count": null,
   "metadata": {},
   "outputs": [],
   "source": [
    "Sets :\n",
    "    dict with None value\n",
    "    all elements should be unique \n",
    "    all elemnets should be immutable \n",
    "    unordered => indexing and slicing \n",
    "    mutable  => add update and delete "
   ]
  },
  {
   "cell_type": "code",
   "execution_count": 20,
   "metadata": {},
   "outputs": [
    {
     "name": "stdout",
     "output_type": "stream",
     "text": [
      "{40, 10, 50, 20, 60, 30}\n"
     ]
    }
   ],
   "source": [
    "s = {10,20,30,10,10,20,30,40,50,60}\n",
    "print(s)"
   ]
  },
  {
   "cell_type": "code",
   "execution_count": 22,
   "metadata": {},
   "outputs": [
    {
     "name": "stdout",
     "output_type": "stream",
     "text": [
      "<class 'set'>\n"
     ]
    }
   ],
   "source": [
    "s = set()\n",
    "print(type(s))"
   ]
  },
  {
   "cell_type": "code",
   "execution_count": 32,
   "metadata": {},
   "outputs": [],
   "source": [
    "s1 = {10,20,30,40,50,60}\n",
    "s2 = {40,50,60,70,80,90}\n",
    "\n"
   ]
  },
  {
   "cell_type": "code",
   "execution_count": 25,
   "metadata": {},
   "outputs": [
    {
     "name": "stdout",
     "output_type": "stream",
     "text": [
      "{70, 40, 10, 80, 50, 20, 90, 60, 30}\n"
     ]
    }
   ],
   "source": [
    "# s3 = s1.union(s2)\n",
    "# print(s3)\n",
    "\n",
    "s1.update(s2)\n",
    "print(s1)"
   ]
  },
  {
   "cell_type": "code",
   "execution_count": 28,
   "metadata": {},
   "outputs": [
    {
     "name": "stdout",
     "output_type": "stream",
     "text": [
      "{40, 50, 60}\n"
     ]
    }
   ],
   "source": [
    "# s3 = s1.intersection(s2)\n",
    "# print(s3)\n",
    "\n",
    "s1.intersection_update(s2)\n",
    "print(s1)"
   ]
  },
  {
   "cell_type": "code",
   "execution_count": 31,
   "metadata": {},
   "outputs": [
    {
     "name": "stdout",
     "output_type": "stream",
     "text": [
      "{70, 10, 80, 20, 90, 30}\n"
     ]
    }
   ],
   "source": [
    "# s3 = s1.symmetric_difference(s2)\n",
    "# print(s3)\n",
    "s1.symmetric_difference_update(s2)\n",
    "print(s1)"
   ]
  },
  {
   "cell_type": "code",
   "execution_count": 34,
   "metadata": {},
   "outputs": [
    {
     "name": "stdout",
     "output_type": "stream",
     "text": [
      "True\n",
      "True\n"
     ]
    }
   ],
   "source": [
    "s3 = {10,20}\n",
    "print(s3.issubset(s1))\n",
    "print(s1.issuperset(s3))"
   ]
  },
  {
   "cell_type": "code",
   "execution_count": 37,
   "metadata": {},
   "outputs": [
    {
     "name": "stdout",
     "output_type": "stream",
     "text": [
      "[10, 10, 20, 25, 60, 45, 10, 10, 20, 30, 45, 85, 65, 41, 10, 20, 30, 10, 50]\n",
      "{65, 41, 10, 45, 50, 20, 85, 25, 60, 30}\n",
      "[10, 20, 25, 30, 41, 45, 50, 60, 65, 85]\n"
     ]
    }
   ],
   "source": [
    "l1 = [10,10,20,25,60,45,10,10,20,30]\n",
    "l2 = [45,85,65,41,10,20,30,10,50]\n",
    "# s = set(l1)\n",
    "# l1.sort()\n",
    "l3 = l1 + l2\n",
    "print(l3)\n",
    "s = set(l3)\n",
    "print(s)\n",
    "l4 = sorted(s)\n",
    "print(l4)"
   ]
  },
  {
   "cell_type": "code",
   "execution_count": null,
   "metadata": {},
   "outputs": [],
   "source": [
    "delete :\n",
    "    pop\n",
    "    remove \n",
    "    discard \n",
    "    del \n",
    "    clear "
   ]
  },
  {
   "cell_type": "code",
   "execution_count": 46,
   "metadata": {},
   "outputs": [
    {
     "name": "stdout",
     "output_type": "stream",
     "text": [
      "{40, 10, 50, 20, 30}\n",
      "set()\n"
     ]
    },
    {
     "ename": "NameError",
     "evalue": "name 's' is not defined",
     "output_type": "error",
     "traceback": [
      "\u001b[1;31m---------------------------------------------------------------------------\u001b[0m",
      "\u001b[1;31mNameError\u001b[0m                                 Traceback (most recent call last)",
      "\u001b[1;32m<ipython-input-46-49cfd91459f3>\u001b[0m in \u001b[0;36m<module>\u001b[1;34m()\u001b[0m\n\u001b[0;32m     10\u001b[0m \u001b[0mprint\u001b[0m\u001b[1;33m(\u001b[0m\u001b[0ms\u001b[0m\u001b[1;33m)\u001b[0m\u001b[1;33m\u001b[0m\u001b[0m\n\u001b[0;32m     11\u001b[0m \u001b[1;32mdel\u001b[0m \u001b[0ms\u001b[0m\u001b[1;33m\u001b[0m\u001b[0m\n\u001b[1;32m---> 12\u001b[1;33m \u001b[0mprint\u001b[0m\u001b[1;33m(\u001b[0m\u001b[0ms\u001b[0m\u001b[1;33m)\u001b[0m\u001b[1;33m\u001b[0m\u001b[0m\n\u001b[0m",
      "\u001b[1;31mNameError\u001b[0m: name 's' is not defined"
     ]
    }
   ],
   "source": [
    "s = {10,20,30,40,50}\n",
    "print(s)\n",
    "# r = s.pop()\n",
    "# print(s,r)\n",
    "# s.remove(400)\n",
    "# print(s)\n",
    "# s.discard(400)\n",
    "# print(s)\n",
    "# s.clear()\n",
    "# print(s)\n",
    "# del s\n",
    "# print(s)"
   ]
  },
  {
   "cell_type": "code",
   "execution_count": null,
   "metadata": {},
   "outputs": [],
   "source": [
    "List :\n",
    "    add :\n",
    "        append \"Python\" \n",
    "        extend \"Python\" => \n",
    "        insert 2,\"Python\"\n",
    "        \n",
    "    Update :\n",
    "        l[0] = value\n",
    "        \n",
    "    delete :\n",
    "        clear \n",
    "        del \n",
    "        remove => value\n",
    "        pop => index \n",
    "        \n",
    "        \n",
    "Str :\n",
    "    \n",
    "    format {} {}.format(num.num2)\n",
    "    split \n",
    "    join \n",
    "    \n",
    "    count \n",
    "    index =>error\n",
    "    rindex \n",
    "    find => -1\n",
    "    rfind\n",
    "    replace \n",
    "    \n",
    "    strip \n",
    "    lstrip \n",
    "    rstrip \n",
    "    \n",
    "    center \n",
    "    ljust \n",
    "    rjust \n",
    "    \n",
    "    upper isupper \n",
    "    lower islowe\n",
    "    title \n",
    "    \n",
    "    \n",
    "    ialpha \n",
    "    isdigit \n",
    "    isalnum\n",
    "    isspace \n",
    "    \n",
    "    \n",
    "    \n",
    "    "
   ]
  },
  {
   "cell_type": "code",
   "execution_count": 47,
   "metadata": {},
   "outputs": [
    {
     "name": "stdout",
     "output_type": "stream",
     "text": [
      "[10, 20, 30, 40]\n"
     ]
    }
   ],
   "source": [
    "l = [10,20,30,40,50]\n",
    "l.pop(2)\n",
    "print(l)"
   ]
  },
  {
   "cell_type": "code",
   "execution_count": 51,
   "metadata": {},
   "outputs": [
    {
     "name": "stdout",
     "output_type": "stream",
     "text": [
      "3141787157000 3141787050952\n"
     ]
    }
   ],
   "source": [
    "l1 = [10,20,30]\n",
    "l2 = l1.copy()\n",
    "print(id(l1),id(l2))"
   ]
  },
  {
   "cell_type": "code",
   "execution_count": null,
   "metadata": {},
   "outputs": [],
   "source": [
    "dict :\n",
    "    add :\n",
    "        setdefault \n",
    "        d[key] \n",
    "        \n",
    "    update \n",
    "        d[key] = value \n",
    "        \n",
    "    del :\n",
    "        popitem \n",
    "        pop \n",
    "        clear \n",
    "        del \n",
    "        \n",
    "        \n",
    "    Set :\n",
    "        union \n",
    "        intesection diff \n",
    "        symm diff\n",
    "        \n",
    "        update \n",
    "        intersection_update \n",
    "        diff_update \n",
    "        syy_update \n",
    "        \n",
    "        \n",
    "    del :\n",
    "        remove \n",
    "        discard \n",
    "        pop\n",
    "        clear \n",
    "        del \n",
    "        "
   ]
  }
 ],
 "metadata": {
  "kernelspec": {
   "display_name": "Python 3",
   "language": "python",
   "name": "python3"
  },
  "language_info": {
   "codemirror_mode": {
    "name": "ipython",
    "version": 3
   },
   "file_extension": ".py",
   "mimetype": "text/x-python",
   "name": "python",
   "nbconvert_exporter": "python",
   "pygments_lexer": "ipython3",
   "version": "3.6.5"
  }
 },
 "nbformat": 4,
 "nbformat_minor": 2
}
