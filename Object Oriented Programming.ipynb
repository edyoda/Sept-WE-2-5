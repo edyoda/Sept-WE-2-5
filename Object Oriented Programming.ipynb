{
 "cells": [
  {
   "cell_type": "code",
   "execution_count": null,
   "metadata": {},
   "outputs": [],
   "source": [
    "procedural eg \"C\"\n",
    "oops java,c++"
   ]
  },
  {
   "cell_type": "code",
   "execution_count": null,
   "metadata": {},
   "outputs": [],
   "source": [
    "Paytm :\n",
    "    send money \n",
    "    add money \n",
    "    \n",
    "    recharge \n",
    "    flight tickects \n",
    "    \n",
    "    no\n",
    "    adhar\n",
    "    email \n",
    "    order history \n",
    "    \n",
    "    \n",
    "user1\n",
    "user2\n",
    "user3\n",
    "\n",
    "class : \n",
    "  functions \n",
    "  data\n",
    "    \n",
    "Objects:\n",
    "    \n",
    "\n"
   ]
  },
  {
   "cell_type": "code",
   "execution_count": null,
   "metadata": {},
   "outputs": [],
   "source": [
    "requiremnts \n",
    "user journey => user case diagrams \n",
    "                sequence dia\n",
    "\n",
    "ER modeling dia \n",
    "Object dia \n",
    "\n",
    "\n"
   ]
  },
  {
   "cell_type": "code",
   "execution_count": null,
   "metadata": {},
   "outputs": [],
   "source": [
    "MVT framework "
   ]
  },
  {
   "cell_type": "code",
   "execution_count": null,
   "metadata": {},
   "outputs": [],
   "source": [
    "add new blogs \n",
    "delete blogs\n",
    "post comments \n"
   ]
  },
  {
   "cell_type": "code",
   "execution_count": null,
   "metadata": {},
   "outputs": [],
   "source": [
    "blog title\n",
    "author \n",
    "bio \n",
    "content \n",
    "published date\n",
    "\n",
    "Models \n",
    "class blogs => db  \n",
    "\n",
    "View  class\n",
    "    \n",
    "\n",
    "Templte => html with data from view \n",
    "\n",
    "blog1\n",
    "blog2\n",
    "blog3\n"
   ]
  },
  {
   "cell_type": "code",
   "execution_count": null,
   "metadata": {},
   "outputs": [],
   "source": [
    "Emp :\n",
    "    data-members : \n",
    "    emp id \n",
    "    name \n",
    "    email \n",
    "    salary \n",
    "    \n",
    "    methods :\n",
    "    get_details \n",
    "    update_details \n",
    "    incr_sal \n",
    "    set_dept \n",
    "    \n",
    "    \n",
    "    "
   ]
  },
  {
   "cell_type": "code",
   "execution_count": null,
   "metadata": {},
   "outputs": [],
   "source": [
    "Instance variable : every object will have its own copy \n",
    "class varible : one global copy shared by all the objects \n",
    "    \n",
    "Methos:\n",
    "    instance methods => object \n",
    "    class methods \n",
    "    static methods "
   ]
  },
  {
   "cell_type": "code",
   "execution_count": 59,
   "metadata": {},
   "outputs": [],
   "source": [
    "class Emp:\n",
    "    def __init__(self,id,name,email,sal):\n",
    "        self.__emp_id = id\n",
    "        self.__nm = name\n",
    "        self.__email = email\n",
    "        self.__salary = sal\n",
    "        \n",
    "    def get_empid(self):\n",
    "        return self.__emp_id\n",
    "\n",
    "    def get_name(self):\n",
    "        return self.__nm\n",
    "    \n",
    "    def set_name(self,new_name):\n",
    "        self.__nm = new_name\n",
    "\n",
    "    \n",
    "    def set_dept(self,dept_name):\n",
    "        self.__dept_nm = dept_name\n",
    "        \n",
    "    def get_details(self):\n",
    "        return self.__emp_id,self.__nm,self.__email,self.__salary,self.__dept_nm\n",
    "    \n",
    "    def incr_sal(self,per = 30):\n",
    "        self.__salary = self.__salary + ((self.__salary * per)/100)\n",
    "        return self.__salary\n",
    "        \n"
   ]
  },
  {
   "cell_type": "code",
   "execution_count": 65,
   "metadata": {},
   "outputs": [
    {
     "name": "stdout",
     "output_type": "stream",
     "text": [
      "<__main__.Emp object at 0x000002B8B4EB0F98>\n",
      "{'_Emp__emp_id': 101, '_Emp__nm': 'ABC', '_Emp__email': 'abc@xyz.com', '_Emp__salary': 85000}\n",
      "101\n"
     ]
    }
   ],
   "source": [
    "emp1 = Emp(101,\"ABC\",\"abc@xyz.com\",85000)\n",
    "#Emp(emp1,101,\"ABC\",\"abc@xyz.com\",85000)\n",
    "print(emp1)\n",
    "\n",
    "emp2 = Emp(102,\"PQR\",\"pqr@xyz.com\",70000)\n",
    "# print(emp2)\n",
    "# print(emp1.get_empid())\n",
    "# print(emp1.get_name())\n",
    "# emp1.set_name(\"WER\")\n",
    "# print(emp1.get_name())\n",
    "print(emp1.__dict__)\n",
    "print(emp1._Emp__emp_id)\n",
    "# print(emp2.nm,emp2.email,emp2.emp_id)\n"
   ]
  },
  {
   "cell_type": "code",
   "execution_count": 30,
   "metadata": {},
   "outputs": [
    {
     "name": "stdout",
     "output_type": "stream",
     "text": [
      "{'emp_id': 101, 'nm': 'ABC', 'email': 'abc@xyz.com', 'salary': 85000, 'dept_nm': 'HR'}\n"
     ]
    }
   ],
   "source": [
    "emp1.set_dept(\"HR\")\n",
    "print(emp1.__dict__)\n",
    "#Emp.set_dept(emp1,\"HR\")"
   ]
  },
  {
   "cell_type": "code",
   "execution_count": 31,
   "metadata": {},
   "outputs": [
    {
     "name": "stdout",
     "output_type": "stream",
     "text": [
      "HR\n",
      "{'emp_id': 102, 'nm': 'PQR', 'email': 'pqr@xyz.com', 'salary': 70000, 'dept_nm': 'Admin'}\n",
      "Admin\n"
     ]
    }
   ],
   "source": [
    "print(emp1.dept_nm)\n",
    "emp2.set_dept(\"Admin\")\n",
    "print(emp2.__dict__)\n",
    "print(emp2.dept_nm)\n"
   ]
  },
  {
   "cell_type": "code",
   "execution_count": 32,
   "metadata": {},
   "outputs": [
    {
     "name": "stdout",
     "output_type": "stream",
     "text": [
      "(101, 'ABC', 'abc@xyz.com', 85000, 'HR')\n",
      "(102, 'PQR', 'pqr@xyz.com', 70000, 'Admin')\n"
     ]
    }
   ],
   "source": [
    "print(emp1.get_details())\n",
    "print(emp2.get_details())"
   ]
  },
  {
   "cell_type": "code",
   "execution_count": 34,
   "metadata": {},
   "outputs": [
    {
     "name": "stdout",
     "output_type": "stream",
     "text": [
      "166600.0\n",
      "118300.0\n"
     ]
    }
   ],
   "source": [
    "print(emp1.incr_sal(40))\n",
    "print(emp2.incr_sal())"
   ]
  },
  {
   "cell_type": "code",
   "execution_count": 51,
   "metadata": {},
   "outputs": [
    {
     "name": "stdout",
     "output_type": "stream",
     "text": [
      "(101, 'ABC', 'abc@xyz.com', 166600.0, 'HR')\n",
      "(102, 'PQR', 'pqr@xyz.com', 118300.0, 'Admin')\n",
      "101\n"
     ]
    }
   ],
   "source": [
    "print(emp1.get_details())\n",
    "print(emp2.get_details())\n",
    "print(emp1.emp_id)"
   ]
  },
  {
   "cell_type": "code",
   "execution_count": null,
   "metadata": {},
   "outputs": [],
   "source": [
    "Student \n",
    "    roll_num\n",
    "    name \n",
    "    std \n",
    "    markrs = [50,80,70,90,75]\n",
    "    per =\n",
    "    result = \"pass\" / \"fail \"\n",
    "    \n",
    "all the pass student \n",
    "\n",
    "all failed students \n",
    "    "
   ]
  },
  {
   "cell_type": "code",
   "execution_count": 37,
   "metadata": {},
   "outputs": [],
   "source": [
    "class Student:\n",
    "    \n",
    "    def __init__(self,roll,std,name,marks):\n",
    "        self.roll_no = roll\n",
    "        self.std = std\n",
    "        self.name = name\n",
    "        self.marks = marks\n",
    "    \n",
    "    def calculate_per(self):\n",
    "        self.per = sum(self.marks) / 5\n",
    "        \n",
    "    def calculate_result(self):\n",
    "        if self.per >= 40:\n",
    "            self.result = \"Pass\"\n",
    "        else:\n",
    "            self.result = \"Fail\"\n",
    "        \n",
    "    def get_details(self):\n",
    "        return self.roll_no,self.name,self.std,self.per,self.result\n",
    "        "
   ]
  },
  {
   "cell_type": "code",
   "execution_count": 38,
   "metadata": {},
   "outputs": [],
   "source": [
    "stud1 = Student(1,1,\"ABC\",[70,75,85,80,90])\n",
    "stud2 = Student(2,1,\"PQR\",[80,75,85,80,90])\n",
    "stud3 = Student(3,1,\"XYZ\",[25,35,45,30,30])\n",
    "stud4 = Student(1,2,\"ABC\",[70,75,85,80,90])\n",
    "stud5 = Student(1,3,\"ABC\",[70,75,85,80,90])"
   ]
  },
  {
   "cell_type": "code",
   "execution_count": 39,
   "metadata": {},
   "outputs": [],
   "source": [
    "students = [stud1,stud2,stud3,stud4,stud5]"
   ]
  },
  {
   "cell_type": "code",
   "execution_count": 40,
   "metadata": {},
   "outputs": [],
   "source": [
    "for student in students:\n",
    "    student.calculate_per()\n",
    "    student.calculate_result()"
   ]
  },
  {
   "cell_type": "code",
   "execution_count": 41,
   "metadata": {},
   "outputs": [
    {
     "name": "stdout",
     "output_type": "stream",
     "text": [
      "List of pass students\n",
      "(1, 'ABC', 1, 80.0, 'Pass')\n",
      "(2, 'PQR', 1, 82.0, 'Pass')\n",
      "(1, 'ABC', 2, 80.0, 'Pass')\n",
      "(1, 'ABC', 3, 80.0, 'Pass')\n"
     ]
    }
   ],
   "source": [
    "print(\"List of pass students\")\n",
    "for student in students:\n",
    "    if student.result == \"Pass\":\n",
    "        print(student.get_details())"
   ]
  },
  {
   "cell_type": "code",
   "execution_count": 42,
   "metadata": {},
   "outputs": [
    {
     "name": "stdout",
     "output_type": "stream",
     "text": [
      "List of failed students\n",
      "(3, 'XYZ', 1, 33.0, 'Fail')\n"
     ]
    }
   ],
   "source": [
    "print(\"List of failed students\")\n",
    "for student in students:\n",
    "    if student.result == \"Fail\":\n",
    "        print(student.get_details())"
   ]
  },
  {
   "cell_type": "code",
   "execution_count": null,
   "metadata": {},
   "outputs": [],
   "source": [
    "Comstructors : method to init the objects "
   ]
  },
  {
   "cell_type": "code",
   "execution_count": 43,
   "metadata": {},
   "outputs": [],
   "source": [
    "class Student:\n",
    "    \n",
    "    def enroll_student(self,roll,std,name,marks):\n",
    "        self.roll_no = roll\n",
    "        self.std = std\n",
    "        self.name = name\n",
    "        self.marks = marks\n",
    "    \n",
    "    def calculate_per(self):\n",
    "        self.per = sum(self.marks) / 5\n",
    "        \n",
    "    def calculate_result(self):\n",
    "        if self.per >= 40:\n",
    "            self.result = \"Pass\"\n",
    "        else:\n",
    "            self.result = \"Fail\"\n",
    "        \n",
    "    def get_details(self):\n",
    "        return self.roll_no,self.name,self.std,self.per,self.result\n",
    "        "
   ]
  },
  {
   "cell_type": "code",
   "execution_count": 44,
   "metadata": {},
   "outputs": [],
   "source": [
    "stud1 = Student()\n",
    "stud2 = Student()\n",
    "stud3 = Student()\n",
    "stud4 = Student()\n",
    "stud5 = Student()"
   ]
  },
  {
   "cell_type": "code",
   "execution_count": 46,
   "metadata": {},
   "outputs": [
    {
     "name": "stdout",
     "output_type": "stream",
     "text": [
      "<__main__.Student object at 0x000002B8B4F19E10>\n",
      "{}\n"
     ]
    }
   ],
   "source": [
    "print(stud1)\n",
    "print(stud1.__dict__)"
   ]
  },
  {
   "cell_type": "code",
   "execution_count": 47,
   "metadata": {},
   "outputs": [],
   "source": [
    "stud1.enroll_student(1,1,\"ABC\",[70,75,85,80,90])\n",
    "stud2.enroll_student(2,1,\"ABC\",[70,75,85,80,90])\n"
   ]
  },
  {
   "cell_type": "code",
   "execution_count": 48,
   "metadata": {},
   "outputs": [
    {
     "name": "stdout",
     "output_type": "stream",
     "text": [
      "{'roll_no': 1, 'std': 1, 'name': 'ABC', 'marks': [70, 75, 85, 80, 90]}\n"
     ]
    }
   ],
   "source": [
    "print(stud1.__dict__)"
   ]
  },
  {
   "cell_type": "code",
   "execution_count": 50,
   "metadata": {},
   "outputs": [
    {
     "name": "stdout",
     "output_type": "stream",
     "text": [
      "<class 'str'>\n",
      "0\n"
     ]
    }
   ],
   "source": [
    "s =\"Python\"\n",
    "print(type(s))\n",
    "print(s.index(\"P\"))"
   ]
  },
  {
   "cell_type": "code",
   "execution_count": null,
   "metadata": {},
   "outputs": [],
   "source": [
    "class str:\n",
    "    \n",
    "    def index(self,chr):\n",
    "        \n",
    "        \n",
    "    def find(self,)"
   ]
  },
  {
   "cell_type": "code",
   "execution_count": null,
   "metadata": {},
   "outputs": [],
   "source": [
    "class \n",
    "objects \n",
    "\n",
    "__init__\n",
    "instance varibale \n",
    "instance methods \n",
    "\n",
    "private \n",
    "get \n",
    "set \n",
    "\n",
    "class varibale \n",
    "class method \n",
    "static method \n",
    "inheritance \n",
    "method overrideing \n",
    "\n",
    "\n"
   ]
  },
  {
   "cell_type": "code",
   "execution_count": null,
   "metadata": {},
   "outputs": [],
   "source": [
    "Tutorials :\n",
    "    id \n",
    "    title \n",
    "    Course\n",
    "    content\n",
    "    \n",
    "Course \n",
    "    id \n",
    "    course title \n",
    "    author \n",
    "\n",
    "all the tutorials for course python\n",
    "\n",
    "all the tutorials from author \"ABC\"\n",
    "\n",
    "    \n",
    "    \n"
   ]
  },
  {
   "cell_type": "code",
   "execution_count": null,
   "metadata": {},
   "outputs": [],
   "source": [
    "\n",
    "Course title Python\n",
    "id  1 \n",
    "author  ABC\n",
    "\n",
    "Totorial 1 :\n",
    "   \n",
    "id : 101   \n",
    "title : Python Lists \n",
    "Course : 1\n",
    "Content  \"\"\"Append \n",
    "Extend Insert \n",
    "Pop \n",
    "remove \n",
    "Clear \n",
    "\"\"\"\n",
    "\n",
    "\n"
   ]
  },
  {
   "cell_type": "code",
   "execution_count": 6,
   "metadata": {},
   "outputs": [],
   "source": [
    "class Course:\n",
    "    def __init__(self,id,title,author):\n",
    "        self.id  = id \n",
    "        self.title = title \n",
    "        self.author = author\n",
    "        \n",
    "class Tutorial:\n",
    "    def __init__(self,id,title,course,content):\n",
    "        self.id  = id \n",
    "        self.title = title\n",
    "        self.course = course\n",
    "        self.content = content\n",
    "        \n",
    "    def get_details(self):\n",
    "        return (self.id,self.title,self.content)\n",
    "        \n",
    "        \n",
    "course1 = Course(1,\"Python\",\"ABC\")\n",
    "course2 = Course(2,\"Django\",\"PQR\")\n",
    "course3 = Course(3,\"Machine Learning\",\"ABC\")\n",
    "\n",
    "tut1 = Tutorial(101,\"Python List\",course1,\"\"\"Add methods\\n Update methods\\n Delete methods\"\"\")\n",
    "tut2 = Tutorial(102,\"Python Dict\",course1,\"\"\"Add methods\\n Update methods\\n Delete methods\"\"\")\n",
    "tut3 = Tutorial(103,\"Python Set\",course1,\"\"\"Add methods\\n Update methods\\n Delete methods\"\"\")\n",
    "tut4 = Tutorial(104,\"Python Tuple\",course1,\"\"\"Add methods\\n Update methods\\n Delete methods\"\"\")\n",
    "\n",
    "tut5 = Tutorial(105,\"NumPy\",course3,\"\"\"Add methods\\n Update methods\\n Delete methods\"\"\")\n",
    "tut6 = Tutorial(106,\"Random forest\",course3,\"\"\"Add methods\\n Update methods\\n Delete methods\"\"\")\n",
    "\n",
    "\n",
    "\n"
   ]
  },
  {
   "cell_type": "code",
   "execution_count": 4,
   "metadata": {},
   "outputs": [
    {
     "name": "stdout",
     "output_type": "stream",
     "text": [
      "Python\n"
     ]
    }
   ],
   "source": [
    "print(tut1.course.title)"
   ]
  },
  {
   "cell_type": "code",
   "execution_count": 9,
   "metadata": {},
   "outputs": [
    {
     "name": "stdout",
     "output_type": "stream",
     "text": [
      "(105, 'NumPy', 'Add methods\\n Update methods\\n Delete methods')\n",
      "(106, 'Random forest', 'Add methods\\n Update methods\\n Delete methods')\n",
      "(101, 'Python List', 'Add methods\\n Update methods\\n Delete methods')\n",
      "(102, 'Python Dict', 'Add methods\\n Update methods\\n Delete methods')\n",
      "(103, 'Python Set', 'Add methods\\n Update methods\\n Delete methods')\n",
      "(104, 'Python Tuple', 'Add methods\\n Update methods\\n Delete methods')\n",
      "(105, 'NumPy', 'Add methods\\n Update methods\\n Delete methods')\n",
      "(106, 'Random forest', 'Add methods\\n Update methods\\n Delete methods')\n"
     ]
    }
   ],
   "source": [
    "tutorials = [tut1,tut2,tut3,tut4,tut5,tut6]\n",
    "\n",
    "for tutorial in tutorials:\n",
    "    if tutorial.course.title == \"Machine Learning\":\n",
    "        print(tutorial.get_details())\n",
    "        \n",
    "for tutorial in tutorials:\n",
    "    if tutorial.course.author == \"ABC\":\n",
    "        print(tutorial.get_details())"
   ]
  },
  {
   "cell_type": "code",
   "execution_count": null,
   "metadata": {},
   "outputs": [],
   "source": [
    "Class \n",
    "Object \n",
    "instance method \n",
    "instance variable \n",
    "private __ , _Class_name__varaibel name"
   ]
  },
  {
   "cell_type": "code",
   "execution_count": null,
   "metadata": {},
   "outputs": [],
   "source": [
    "class method \n",
    "class variable \n",
    "static method \n",
    "inheritance \n",
    "method overriding "
   ]
  },
  {
   "cell_type": "code",
   "execution_count": 16,
   "metadata": {},
   "outputs": [],
   "source": [
    "class Student:\n",
    "    count = 0\n",
    "    students =[]\n",
    "    \n",
    "    @classmethod\n",
    "    def incr_count(cls):\n",
    "        cls.count+=1\n",
    "        \n",
    "    @classmethod\n",
    "    def get_count(cls):\n",
    "        return cls.count\n",
    "        \n",
    "    @classmethod\n",
    "    def add_student(cls,obj):\n",
    "        cls.students.append(obj)\n",
    "        \n",
    "    @staticmethod\n",
    "    def add_num(num1,num2):\n",
    "        return num1 + num2\n",
    "    \n",
    "    def __init__(self,roll,std,name,marks):\n",
    "        self.roll_no = roll\n",
    "        self.std = std\n",
    "        self.name = name\n",
    "        self.marks = marks\n",
    "        Student.incr_count()\n",
    "        Student.add_student(self)\n",
    "    \n",
    "    def calculate_per(self):\n",
    "        self.per = sum(self.marks) / 5\n",
    "        \n",
    "    def calculate_result(self):\n",
    "        if self.per >= 40:\n",
    "            self.result = \"Pass\"\n",
    "        else:\n",
    "            self.result = \"Fail\"\n",
    "        \n",
    "    def get_details(self):\n",
    "        return self.roll_no,self.name,self.std,self.marks\n",
    "        "
   ]
  },
  {
   "cell_type": "code",
   "execution_count": 12,
   "metadata": {},
   "outputs": [
    {
     "name": "stdout",
     "output_type": "stream",
     "text": [
      "0\n"
     ]
    }
   ],
   "source": [
    "print(Student.get_count())"
   ]
  },
  {
   "cell_type": "code",
   "execution_count": 6,
   "metadata": {},
   "outputs": [],
   "source": [
    "stud1 = Student(1,1,\"ABC\",[70,75,85,80,90])\n",
    "stud2 = Student(2,1,\"PQR\",[80,75,85,80,90])\n",
    "stud3 = Student(3,1,\"XYZ\",[25,35,45,30,30])\n",
    "stud4 = Student(1,2,\"ABC\",[70,75,85,80,90])\n",
    "stud5 = Student(1,3,\"ABC\",[70,75,85,80,90])"
   ]
  },
  {
   "cell_type": "code",
   "execution_count": 8,
   "metadata": {},
   "outputs": [
    {
     "name": "stdout",
     "output_type": "stream",
     "text": [
      "5\n",
      "[<__main__.Student object at 0x000001EDA8EB13C8>, <__main__.Student object at 0x000001EDA8EB1390>, <__main__.Student object at 0x000001EDA8EA8FD0>, <__main__.Student object at 0x000001EDA8EA8F98>, <__main__.Student object at 0x000001EDA8EB1048>]\n",
      "['ABC', 'PQR', 'XYZ', 'ABC', 'ABC']\n"
     ]
    }
   ],
   "source": [
    "print(Student.count)\n",
    "print(Student.students)\n",
    "names = [student.name for student in Student.students]\n",
    "print(names)"
   ]
  },
  {
   "cell_type": "code",
   "execution_count": 4,
   "metadata": {},
   "outputs": [
    {
     "name": "stdout",
     "output_type": "stream",
     "text": [
      "{'__module__': '__main__', 'count': 100, '__init__': <function Student.__init__ at 0x000001EDA8E41730>, 'calculate_per': <function Student.calculate_per at 0x000001EDA8E41950>, 'calculate_result': <function Student.calculate_result at 0x000001EDA8E419D8>, 'get_details': <function Student.get_details at 0x000001EDA8E41A60>, '__dict__': <attribute '__dict__' of 'Student' objects>, '__weakref__': <attribute '__weakref__' of 'Student' objects>, '__doc__': None}\n",
      "{'roll_no': 1, 'std': 1, 'name': 'ABC', 'marks': [70, 75, 85, 80, 90]}\n",
      "{'roll_no': 1, 'std': 1, 'name': 'ABC', 'marks': [70, 75, 85, 80, 90], 'count': 500}\n"
     ]
    }
   ],
   "source": [
    "Student.count = 100\n",
    "print(Student.__dict__)\n",
    "print(stud1.__dict__)\n",
    "# print(Student.count)\n",
    "# print(stud1.count)\n",
    "# print(stud2.count)\n",
    "\n",
    "stud1.count = 500\n",
    "# print(Student.count)\n",
    "print(stud1.__dict__)\n",
    "# print(stud1.count)\n",
    "# print(stud2.count)\n"
   ]
  },
  {
   "cell_type": "code",
   "execution_count": 15,
   "metadata": {},
   "outputs": [
    {
     "name": "stdout",
     "output_type": "stream",
     "text": [
      "None\n",
      "{10: None, 20: None, 30: None, 40: None}\n"
     ]
    }
   ],
   "source": [
    "l = [10,20,30,40]\n",
    "\n",
    "d = dict.fromkeys(l)\n",
    "print(d.get(10))\n",
    "print(d)"
   ]
  },
  {
   "cell_type": "code",
   "execution_count": 17,
   "metadata": {},
   "outputs": [
    {
     "name": "stdout",
     "output_type": "stream",
     "text": [
      "30\n"
     ]
    }
   ],
   "source": [
    "print(Student.add_num(10,20))"
   ]
  },
  {
   "cell_type": "code",
   "execution_count": null,
   "metadata": {},
   "outputs": [],
   "source": [
    "Bank Accounts \n",
    "    Saving\n",
    "        ROI 4\n",
    "        name \n",
    "        id proof \n",
    "        address proof\n",
    "        \n",
    "        deposite \n",
    "        withdraw\n",
    "    Current Account \n",
    "        RIO 7.2       \n",
    "        org \n",
    "        pan card \n",
    "        gst no \n",
    "        deposite \n",
    "        withdraw"
   ]
  },
  {
   "cell_type": "code",
   "execution_count": 12,
   "metadata": {},
   "outputs": [],
   "source": [
    "class Account:\n",
    "    def __init__(self,acc_num,pan_card,gst_no=None,balance=2):\n",
    "        self.acc_num = acc_num\n",
    "        self.pan_card = pan_card\n",
    "        self.gst_no =  gst_no\n",
    "        self.balance = balance\n",
    "        \n",
    "    def deposite(self,amount):\n",
    "        print(\"Im in in Account class\")\n",
    "        self.balance += amount\n",
    "        return self.balance\n",
    "    \n",
    "    def withdraw(self,amount):\n",
    "        self.balance -= amount\n",
    "        return self.balance\n",
    "    \n",
    "    def add_interest(self,rate):\n",
    "        self.balance = self.balance + (self.balance * rate) / 100\n",
    "\n",
    "class Demo:\n",
    "    def deposite(self,amount):\n",
    "        print(\"Im in in demo class\")\n",
    "        self.balance *= amount\n",
    "        return self.balance\n",
    "        \n",
    "class Saving(Demo,Account):    \n",
    "    rate = 4\n",
    "    def __init__(self,id,name,pan):\n",
    "        self.acc_name = name\n",
    "        super().__init__(acc_num = id,pan_card = pan)\n",
    "        \n",
    "    def deposite(self,amount):\n",
    "        self.balance +=100\n",
    "        print(\"After adding 100 balance is\",self.balance)\n",
    "        Account.deposite(self,amount)\n",
    "\n",
    " \n",
    "        "
   ]
  },
  {
   "cell_type": "code",
   "execution_count": 13,
   "metadata": {},
   "outputs": [
    {
     "name": "stdout",
     "output_type": "stream",
     "text": [
      "After adding 100 balance is 102\n",
      "Im in in Account class\n",
      "None\n",
      "50102\n",
      "Help on Saving in module __main__ object:\n",
      "\n",
      "class Saving(Demo, Account)\n",
      " |  Method resolution order:\n",
      " |      Saving\n",
      " |      Demo\n",
      " |      Account\n",
      " |      builtins.object\n",
      " |  \n",
      " |  Methods defined here:\n",
      " |  \n",
      " |  __init__(self, id, name, pan)\n",
      " |      Initialize self.  See help(type(self)) for accurate signature.\n",
      " |  \n",
      " |  deposite(self, amount)\n",
      " |  \n",
      " |  ----------------------------------------------------------------------\n",
      " |  Data and other attributes defined here:\n",
      " |  \n",
      " |  rate = 4\n",
      " |  \n",
      " |  ----------------------------------------------------------------------\n",
      " |  Data descriptors inherited from Demo:\n",
      " |  \n",
      " |  __dict__\n",
      " |      dictionary for instance variables (if defined)\n",
      " |  \n",
      " |  __weakref__\n",
      " |      list of weak references to the object (if defined)\n",
      " |  \n",
      " |  ----------------------------------------------------------------------\n",
      " |  Methods inherited from Account:\n",
      " |  \n",
      " |  add_interest(self, rate)\n",
      " |  \n",
      " |  withdraw(self, amount)\n",
      "\n"
     ]
    }
   ],
   "source": [
    "acc1 = Saving(1,\"ABC\",\"ABCD1234Z\")\n",
    "# print(acc1.__dict__)  \n",
    "print(acc1.deposite(50000))\n",
    "# acc1.add_interest(Saving.rate)\n",
    "print(acc1.balance)\n",
    "help(acc1)\n",
    "#Depth first left to right"
   ]
  },
  {
   "cell_type": "code",
   "execution_count": null,
   "metadata": {},
   "outputs": [],
   "source": [
    "method overloading :\n",
    "    2 methods same name diff args \n",
    "        1 no of args \n",
    "        2 datatype is diff = not work \n",
    "        \n",
    "add(*args)\n",
    "\n",
    "add(flaot num1,float num2)\n",
    "\n",
    "add(num1,num2)\n",
    "add(val1,val2)\n",
    "method overiding :\n",
    "    2 fun same name same args diff implementation"
   ]
  },
  {
   "cell_type": "code",
   "execution_count": null,
   "metadata": {},
   "outputs": [],
   "source": [
    "multiple inhe\n",
    "A \n",
    "\n",
    "B\n",
    "\n",
    "C(A,B,C,D)\n",
    "depth first left to right MRO \n",
    "\n",
    "A\n",
    "\n",
    "B(A)\n",
    "\n",
    "C(B)\n",
    "\n"
   ]
  },
  {
   "cell_type": "code",
   "execution_count": null,
   "metadata": {},
   "outputs": [],
   "source": [
    "OOP :\n",
    "    1 Polymorphism: mothod overloading \n",
    "                    overriding \n",
    "    2 Encapsulation abstraction and data hiding __\n",
    "    3 inheritance "
   ]
  },
  {
   "cell_type": "code",
   "execution_count": 15,
   "metadata": {},
   "outputs": [
    {
     "ename": "TypeError",
     "evalue": "unsupported operand type(s) for +: 'int' and 'str'",
     "output_type": "error",
     "traceback": [
      "\u001b[1;31m---------------------------------------------------------------------------\u001b[0m",
      "\u001b[1;31mTypeError\u001b[0m                                 Traceback (most recent call last)",
      "\u001b[1;32m<ipython-input-15-c8df433bfc1b>\u001b[0m in \u001b[0;36m<module>\u001b[1;34m()\u001b[0m\n\u001b[0;32m      2\u001b[0m     \u001b[0mprint\u001b[0m\u001b[1;33m(\u001b[0m\u001b[0mval1\u001b[0m\u001b[1;33m+\u001b[0m\u001b[0mval2\u001b[0m\u001b[1;33m)\u001b[0m\u001b[1;33m\u001b[0m\u001b[0m\n\u001b[0;32m      3\u001b[0m \u001b[1;33m\u001b[0m\u001b[0m\n\u001b[1;32m----> 4\u001b[1;33m \u001b[0madd\u001b[0m\u001b[1;33m(\u001b[0m\u001b[1;36m10\u001b[0m\u001b[1;33m,\u001b[0m\u001b[1;34m\"Python\"\u001b[0m\u001b[1;33m)\u001b[0m\u001b[1;33m\u001b[0m\u001b[0m\n\u001b[0m\u001b[0;32m      5\u001b[0m \u001b[0madd\u001b[0m\u001b[1;33m(\u001b[0m\u001b[1;36m10\u001b[0m\u001b[1;33m,\u001b[0m\u001b[1;36m20\u001b[0m\u001b[1;33m)\u001b[0m\u001b[1;33m\u001b[0m\u001b[0m\n\u001b[0;32m      6\u001b[0m \u001b[0madd\u001b[0m\u001b[1;33m(\u001b[0m\u001b[1;33m[\u001b[0m\u001b[1;36m10\u001b[0m\u001b[1;33m,\u001b[0m\u001b[1;36m20\u001b[0m\u001b[1;33m,\u001b[0m\u001b[1;36m30\u001b[0m\u001b[1;33m]\u001b[0m\u001b[1;33m,\u001b[0m\u001b[1;33m(\u001b[0m\u001b[1;36m10\u001b[0m\u001b[1;33m,\u001b[0m\u001b[1;36m20\u001b[0m\u001b[1;33m,\u001b[0m\u001b[1;36m30\u001b[0m\u001b[1;33m)\u001b[0m\u001b[1;33m)\u001b[0m\u001b[1;33m\u001b[0m\u001b[0m\n",
      "\u001b[1;32m<ipython-input-15-c8df433bfc1b>\u001b[0m in \u001b[0;36madd\u001b[1;34m(val1, val2)\u001b[0m\n\u001b[0;32m      1\u001b[0m \u001b[1;32mdef\u001b[0m \u001b[0madd\u001b[0m\u001b[1;33m(\u001b[0m\u001b[0mval1\u001b[0m\u001b[1;33m,\u001b[0m\u001b[0mval2\u001b[0m\u001b[1;33m)\u001b[0m\u001b[1;33m:\u001b[0m\u001b[1;33m\u001b[0m\u001b[0m\n\u001b[1;32m----> 2\u001b[1;33m     \u001b[0mprint\u001b[0m\u001b[1;33m(\u001b[0m\u001b[0mval1\u001b[0m\u001b[1;33m+\u001b[0m\u001b[0mval2\u001b[0m\u001b[1;33m)\u001b[0m\u001b[1;33m\u001b[0m\u001b[0m\n\u001b[0m\u001b[0;32m      3\u001b[0m \u001b[1;33m\u001b[0m\u001b[0m\n\u001b[0;32m      4\u001b[0m \u001b[0madd\u001b[0m\u001b[1;33m(\u001b[0m\u001b[1;36m10\u001b[0m\u001b[1;33m,\u001b[0m\u001b[1;34m\"Python\"\u001b[0m\u001b[1;33m)\u001b[0m\u001b[1;33m\u001b[0m\u001b[0m\n\u001b[0;32m      5\u001b[0m \u001b[0madd\u001b[0m\u001b[1;33m(\u001b[0m\u001b[1;36m10\u001b[0m\u001b[1;33m,\u001b[0m\u001b[1;36m20\u001b[0m\u001b[1;33m)\u001b[0m\u001b[1;33m\u001b[0m\u001b[0m\n",
      "\u001b[1;31mTypeError\u001b[0m: unsupported operand type(s) for +: 'int' and 'str'"
     ]
    }
   ],
   "source": [
    "def add(val1,val2):\n",
    "    print(type(val1))\n",
    "    print(val1+val2)\n",
    "    if type(val1) ==list and type(val2) == list:\n",
    "    \n",
    "    \n",
    "add(10,\"Python\")\n",
    "add(10,20)\n",
    "add([10,20,30],(10,20,30))"
   ]
  },
  {
   "cell_type": "code",
   "execution_count": null,
   "metadata": {},
   "outputs": [],
   "source": [
    "exception \n",
    "deco \n",
    "itertools "
   ]
  }
 ],
 "metadata": {
  "kernelspec": {
   "display_name": "Python 3",
   "language": "python",
   "name": "python3"
  },
  "language_info": {
   "codemirror_mode": {
    "name": "ipython",
    "version": 3
   },
   "file_extension": ".py",
   "mimetype": "text/x-python",
   "name": "python",
   "nbconvert_exporter": "python",
   "pygments_lexer": "ipython3",
   "version": "3.6.5"
  }
 },
 "nbformat": 4,
 "nbformat_minor": 2
}
