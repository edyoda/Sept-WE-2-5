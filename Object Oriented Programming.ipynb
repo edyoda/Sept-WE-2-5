{
 "cells": [
  {
   "cell_type": "code",
   "execution_count": null,
   "metadata": {},
   "outputs": [],
   "source": [
    "procedural eg \"C\"\n",
    "oops java,c++"
   ]
  },
  {
   "cell_type": "code",
   "execution_count": null,
   "metadata": {},
   "outputs": [],
   "source": [
    "Paytm :\n",
    "    send money \n",
    "    add money \n",
    "    \n",
    "    recharge \n",
    "    flight tickects \n",
    "    \n",
    "    no\n",
    "    adhar\n",
    "    email \n",
    "    order history \n",
    "    \n",
    "    \n",
    "user1\n",
    "user2\n",
    "user3\n",
    "\n",
    "class : \n",
    "  functions \n",
    "  data\n",
    "    \n",
    "Objects:\n",
    "    \n",
    "\n"
   ]
  },
  {
   "cell_type": "code",
   "execution_count": null,
   "metadata": {},
   "outputs": [],
   "source": [
    "requiremnts \n",
    "user journey => user case diagrams \n",
    "                sequence dia\n",
    "\n",
    "ER modeling dia \n",
    "Object dia \n",
    "\n",
    "\n"
   ]
  },
  {
   "cell_type": "code",
   "execution_count": null,
   "metadata": {},
   "outputs": [],
   "source": [
    "MVT framework "
   ]
  },
  {
   "cell_type": "code",
   "execution_count": null,
   "metadata": {},
   "outputs": [],
   "source": [
    "add new blogs \n",
    "delete blogs\n",
    "post comments \n"
   ]
  },
  {
   "cell_type": "code",
   "execution_count": null,
   "metadata": {},
   "outputs": [],
   "source": [
    "blog title\n",
    "author \n",
    "bio \n",
    "content \n",
    "published date\n",
    "\n",
    "Models \n",
    "class blogs => db  \n",
    "\n",
    "View  class\n",
    "    \n",
    "\n",
    "Templte => html with data from view \n",
    "\n",
    "blog1\n",
    "blog2\n",
    "blog3\n"
   ]
  },
  {
   "cell_type": "code",
   "execution_count": null,
   "metadata": {},
   "outputs": [],
   "source": [
    "Emp :\n",
    "    data-members : \n",
    "    emp id \n",
    "    name \n",
    "    email \n",
    "    salary \n",
    "    \n",
    "    methods :\n",
    "    get_details \n",
    "    update_details \n",
    "    incr_sal \n",
    "    set_dept \n",
    "    \n",
    "    \n",
    "    "
   ]
  },
  {
   "cell_type": "code",
   "execution_count": null,
   "metadata": {},
   "outputs": [],
   "source": [
    "Instance variable : every object will have its own copy \n",
    "class varible : one global copy shared by all the objects \n",
    "    \n",
    "Methos:\n",
    "    instance methods => object \n",
    "    class methods \n",
    "    static methods "
   ]
  },
  {
   "cell_type": "code",
   "execution_count": 59,
   "metadata": {},
   "outputs": [],
   "source": [
    "class Emp:\n",
    "    def __init__(self,id,name,email,sal):\n",
    "        self.__emp_id = id\n",
    "        self.__nm = name\n",
    "        self.__email = email\n",
    "        self.__salary = sal\n",
    "        \n",
    "    def get_empid(self):\n",
    "        return self.__emp_id\n",
    "\n",
    "    def get_name(self):\n",
    "        return self.__nm\n",
    "    \n",
    "    def set_name(self,new_name):\n",
    "        self.__nm = new_name\n",
    "\n",
    "    \n",
    "    def set_dept(self,dept_name):\n",
    "        self.__dept_nm = dept_name\n",
    "        \n",
    "    def get_details(self):\n",
    "        return self.__emp_id,self.__nm,self.__email,self.__salary,self.__dept_nm\n",
    "    \n",
    "    def incr_sal(self,per = 30):\n",
    "        self.__salary = self.__salary + ((self.__salary * per)/100)\n",
    "        return self.__salary\n",
    "        \n"
   ]
  },
  {
   "cell_type": "code",
   "execution_count": 65,
   "metadata": {},
   "outputs": [
    {
     "name": "stdout",
     "output_type": "stream",
     "text": [
      "<__main__.Emp object at 0x000002B8B4EB0F98>\n",
      "{'_Emp__emp_id': 101, '_Emp__nm': 'ABC', '_Emp__email': 'abc@xyz.com', '_Emp__salary': 85000}\n",
      "101\n"
     ]
    }
   ],
   "source": [
    "emp1 = Emp(101,\"ABC\",\"abc@xyz.com\",85000)\n",
    "#Emp(emp1,101,\"ABC\",\"abc@xyz.com\",85000)\n",
    "print(emp1)\n",
    "\n",
    "emp2 = Emp(102,\"PQR\",\"pqr@xyz.com\",70000)\n",
    "# print(emp2)\n",
    "# print(emp1.get_empid())\n",
    "# print(emp1.get_name())\n",
    "# emp1.set_name(\"WER\")\n",
    "# print(emp1.get_name())\n",
    "print(emp1.__dict__)\n",
    "print(emp1._Emp__emp_id)\n",
    "# print(emp2.nm,emp2.email,emp2.emp_id)\n"
   ]
  },
  {
   "cell_type": "code",
   "execution_count": 30,
   "metadata": {},
   "outputs": [
    {
     "name": "stdout",
     "output_type": "stream",
     "text": [
      "{'emp_id': 101, 'nm': 'ABC', 'email': 'abc@xyz.com', 'salary': 85000, 'dept_nm': 'HR'}\n"
     ]
    }
   ],
   "source": [
    "emp1.set_dept(\"HR\")\n",
    "print(emp1.__dict__)\n",
    "#Emp.set_dept(emp1,\"HR\")"
   ]
  },
  {
   "cell_type": "code",
   "execution_count": 31,
   "metadata": {},
   "outputs": [
    {
     "name": "stdout",
     "output_type": "stream",
     "text": [
      "HR\n",
      "{'emp_id': 102, 'nm': 'PQR', 'email': 'pqr@xyz.com', 'salary': 70000, 'dept_nm': 'Admin'}\n",
      "Admin\n"
     ]
    }
   ],
   "source": [
    "print(emp1.dept_nm)\n",
    "emp2.set_dept(\"Admin\")\n",
    "print(emp2.__dict__)\n",
    "print(emp2.dept_nm)\n"
   ]
  },
  {
   "cell_type": "code",
   "execution_count": 32,
   "metadata": {},
   "outputs": [
    {
     "name": "stdout",
     "output_type": "stream",
     "text": [
      "(101, 'ABC', 'abc@xyz.com', 85000, 'HR')\n",
      "(102, 'PQR', 'pqr@xyz.com', 70000, 'Admin')\n"
     ]
    }
   ],
   "source": [
    "print(emp1.get_details())\n",
    "print(emp2.get_details())"
   ]
  },
  {
   "cell_type": "code",
   "execution_count": 34,
   "metadata": {},
   "outputs": [
    {
     "name": "stdout",
     "output_type": "stream",
     "text": [
      "166600.0\n",
      "118300.0\n"
     ]
    }
   ],
   "source": [
    "print(emp1.incr_sal(40))\n",
    "print(emp2.incr_sal())"
   ]
  },
  {
   "cell_type": "code",
   "execution_count": 51,
   "metadata": {},
   "outputs": [
    {
     "name": "stdout",
     "output_type": "stream",
     "text": [
      "(101, 'ABC', 'abc@xyz.com', 166600.0, 'HR')\n",
      "(102, 'PQR', 'pqr@xyz.com', 118300.0, 'Admin')\n",
      "101\n"
     ]
    }
   ],
   "source": [
    "print(emp1.get_details())\n",
    "print(emp2.get_details())\n",
    "print(emp1.emp_id)"
   ]
  },
  {
   "cell_type": "code",
   "execution_count": null,
   "metadata": {},
   "outputs": [],
   "source": [
    "Student \n",
    "    roll_num\n",
    "    name \n",
    "    std \n",
    "    markrs = [50,80,70,90,75]\n",
    "    per =\n",
    "    result = \"pass\" / \"fail \"\n",
    "    \n",
    "all the pass student \n",
    "\n",
    "all failed students \n",
    "    "
   ]
  },
  {
   "cell_type": "code",
   "execution_count": 37,
   "metadata": {},
   "outputs": [],
   "source": [
    "class Student:\n",
    "    \n",
    "    def __init__(self,roll,std,name,marks):\n",
    "        self.roll_no = roll\n",
    "        self.std = std\n",
    "        self.name = name\n",
    "        self.marks = marks\n",
    "    \n",
    "    def calculate_per(self):\n",
    "        self.per = sum(self.marks) / 5\n",
    "        \n",
    "    def calculate_result(self):\n",
    "        if self.per >= 40:\n",
    "            self.result = \"Pass\"\n",
    "        else:\n",
    "            self.result = \"Fail\"\n",
    "        \n",
    "    def get_details(self):\n",
    "        return self.roll_no,self.name,self.std,self.per,self.result\n",
    "        "
   ]
  },
  {
   "cell_type": "code",
   "execution_count": 38,
   "metadata": {},
   "outputs": [],
   "source": [
    "stud1 = Student(1,1,\"ABC\",[70,75,85,80,90])\n",
    "stud2 = Student(2,1,\"PQR\",[80,75,85,80,90])\n",
    "stud3 = Student(3,1,\"XYZ\",[25,35,45,30,30])\n",
    "stud4 = Student(1,2,\"ABC\",[70,75,85,80,90])\n",
    "stud5 = Student(1,3,\"ABC\",[70,75,85,80,90])"
   ]
  },
  {
   "cell_type": "code",
   "execution_count": 39,
   "metadata": {},
   "outputs": [],
   "source": [
    "students = [stud1,stud2,stud3,stud4,stud5]"
   ]
  },
  {
   "cell_type": "code",
   "execution_count": 40,
   "metadata": {},
   "outputs": [],
   "source": [
    "for student in students:\n",
    "    student.calculate_per()\n",
    "    student.calculate_result()"
   ]
  },
  {
   "cell_type": "code",
   "execution_count": 41,
   "metadata": {},
   "outputs": [
    {
     "name": "stdout",
     "output_type": "stream",
     "text": [
      "List of pass students\n",
      "(1, 'ABC', 1, 80.0, 'Pass')\n",
      "(2, 'PQR', 1, 82.0, 'Pass')\n",
      "(1, 'ABC', 2, 80.0, 'Pass')\n",
      "(1, 'ABC', 3, 80.0, 'Pass')\n"
     ]
    }
   ],
   "source": [
    "print(\"List of pass students\")\n",
    "for student in students:\n",
    "    if student.result == \"Pass\":\n",
    "        print(student.get_details())"
   ]
  },
  {
   "cell_type": "code",
   "execution_count": 42,
   "metadata": {},
   "outputs": [
    {
     "name": "stdout",
     "output_type": "stream",
     "text": [
      "List of failed students\n",
      "(3, 'XYZ', 1, 33.0, 'Fail')\n"
     ]
    }
   ],
   "source": [
    "print(\"List of failed students\")\n",
    "for student in students:\n",
    "    if student.result == \"Fail\":\n",
    "        print(student.get_details())"
   ]
  },
  {
   "cell_type": "code",
   "execution_count": null,
   "metadata": {},
   "outputs": [],
   "source": [
    "Comstructors : method to init the objects "
   ]
  },
  {
   "cell_type": "code",
   "execution_count": 43,
   "metadata": {},
   "outputs": [],
   "source": [
    "class Student:\n",
    "    \n",
    "    def enroll_student(self,roll,std,name,marks):\n",
    "        self.roll_no = roll\n",
    "        self.std = std\n",
    "        self.name = name\n",
    "        self.marks = marks\n",
    "    \n",
    "    def calculate_per(self):\n",
    "        self.per = sum(self.marks) / 5\n",
    "        \n",
    "    def calculate_result(self):\n",
    "        if self.per >= 40:\n",
    "            self.result = \"Pass\"\n",
    "        else:\n",
    "            self.result = \"Fail\"\n",
    "        \n",
    "    def get_details(self):\n",
    "        return self.roll_no,self.name,self.std,self.per,self.result\n",
    "        "
   ]
  },
  {
   "cell_type": "code",
   "execution_count": 44,
   "metadata": {},
   "outputs": [],
   "source": [
    "stud1 = Student()\n",
    "stud2 = Student()\n",
    "stud3 = Student()\n",
    "stud4 = Student()\n",
    "stud5 = Student()"
   ]
  },
  {
   "cell_type": "code",
   "execution_count": 46,
   "metadata": {},
   "outputs": [
    {
     "name": "stdout",
     "output_type": "stream",
     "text": [
      "<__main__.Student object at 0x000002B8B4F19E10>\n",
      "{}\n"
     ]
    }
   ],
   "source": [
    "print(stud1)\n",
    "print(stud1.__dict__)"
   ]
  },
  {
   "cell_type": "code",
   "execution_count": 47,
   "metadata": {},
   "outputs": [],
   "source": [
    "stud1.enroll_student(1,1,\"ABC\",[70,75,85,80,90])\n",
    "stud2.enroll_student(2,1,\"ABC\",[70,75,85,80,90])\n"
   ]
  },
  {
   "cell_type": "code",
   "execution_count": 48,
   "metadata": {},
   "outputs": [
    {
     "name": "stdout",
     "output_type": "stream",
     "text": [
      "{'roll_no': 1, 'std': 1, 'name': 'ABC', 'marks': [70, 75, 85, 80, 90]}\n"
     ]
    }
   ],
   "source": [
    "print(stud1.__dict__)"
   ]
  },
  {
   "cell_type": "code",
   "execution_count": 50,
   "metadata": {},
   "outputs": [
    {
     "name": "stdout",
     "output_type": "stream",
     "text": [
      "<class 'str'>\n",
      "0\n"
     ]
    }
   ],
   "source": [
    "s =\"Python\"\n",
    "print(type(s))\n",
    "print(s.index(\"P\"))"
   ]
  },
  {
   "cell_type": "code",
   "execution_count": null,
   "metadata": {},
   "outputs": [],
   "source": [
    "class str:\n",
    "    \n",
    "    def index(self,chr):\n",
    "        \n",
    "        \n",
    "    def find(self,)"
   ]
  },
  {
   "cell_type": "code",
   "execution_count": null,
   "metadata": {},
   "outputs": [],
   "source": [
    "class \n",
    "objects \n",
    "\n",
    "__init__\n",
    "instance varibale \n",
    "instance methods \n",
    "\n",
    "private \n",
    "get \n",
    "set \n",
    "\n",
    "class varibale \n",
    "class method \n",
    "static method \n",
    "inheritance \n",
    "method overrideing \n",
    "\n",
    "\n"
   ]
  },
  {
   "cell_type": "code",
   "execution_count": null,
   "metadata": {},
   "outputs": [],
   "source": [
    "Tutorials :\n",
    "    id \n",
    "    title \n",
    "    Course\n",
    "    content \n",
    "    \n",
    "Course \n",
    "    id \n",
    "    course title \n",
    "    author \n",
    "\n",
    "all the tutorials for course python\n",
    "\n",
    "all the tutorials from author \"ABC\"\n",
    "\n",
    "    \n",
    "    \n"
   ]
  }
 ],
 "metadata": {
  "kernelspec": {
   "display_name": "Python 3",
   "language": "python",
   "name": "python3"
  },
  "language_info": {
   "codemirror_mode": {
    "name": "ipython",
    "version": 3
   },
   "file_extension": ".py",
   "mimetype": "text/x-python",
   "name": "python",
   "nbconvert_exporter": "python",
   "pygments_lexer": "ipython3",
   "version": "3.6.5"
  }
 },
 "nbformat": 4,
 "nbformat_minor": 2
}
