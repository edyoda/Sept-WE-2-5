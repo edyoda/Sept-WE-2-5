{
 "cells": [
  {
   "cell_type": "code",
   "execution_count": null,
   "metadata": {},
   "outputs": [],
   "source": [
    "Modes of opening the file :\n",
    "    r=> read r+\n",
    "    w=> write w+\n",
    "    a=> append a+"
   ]
  },
  {
   "cell_type": "code",
   "execution_count": 3,
   "metadata": {},
   "outputs": [
    {
     "name": "stdout",
     "output_type": "stream",
     "text": [
      "This article explains the new features in Python 3.7, compared to 3.6. Python 3.7 was released on June 27, 2018. For full details, see the changelog.\n",
      "\n",
      "Summary â€“ Release Highlights\n",
      "New syntax features:\n",
      "\n",
      "PEP 563, postponed evaluation of type annotations.\n",
      "Backwards incompatible syntax changes:\n",
      "\n",
      "async and await are now reserved keywords.\n",
      "New library modules:\n",
      "\n",
      "contextvars: PEP 567 â€“ Context Variables\n",
      "dataclasses: PEP 557 â€“ Data Classes\n",
      "importlib.resources\n",
      "New built-in features:\n",
      "\n",
      "PEP 553, the new breakpoint() function.\n",
      "Python data model improvements:\n",
      "\n",
      "PEP 562, customization of access to module attributes.\n",
      "PEP 560, core support for typing module and generic types.\n",
      "the insertion-order preservation nature of dict objects has been declared to be an official part of the Python language spec.\n",
      "Significant improvements in the standard library:\n",
      "\n",
      "The asyncio module has received new features, significant usability and performance improvements.\n",
      "The time module gained support for functions with nanosecond resolution.\n",
      "CPython implementation improvements:\n",
      "\n",
      "Avoiding the use of ASCII as a default text encoding:\n",
      "PEP 538, legacy C locale coercion\n",
      "PEP 540, forced UTF-8 runtime mode\n",
      "PEP 552, deterministic .pycs\n",
      "the new development runtime mode\n",
      "PEP 565, improved DeprecationWarning handling\n",
      "C API improvements:\n",
      "\n",
      "PEP 539, new C API for thread-local storage\n",
      "Documentation improvements:\n",
      "\n",
      "PEP 545, Python documentation translations\n",
      "New documentation translations: Japanese, French, and Korean.\n",
      "This release features notable performance improvements in many areas. The Optimizations section lists them in detail.\n",
      "\n",
      "For a list of changes that may affect compatibility with previous Python releases please refer to the Porting to Python 3.7 section.\n",
      "-----after first read ----\n",
      "\n"
     ]
    }
   ],
   "source": [
    "fp = open(\"test.txt\",\"r\")\n",
    "content = fp.read()\n",
    "print(content)\n",
    "print(\"-----after first read ----\")\n",
    "content = fp.read()\n",
    "print(content)\n",
    "\n",
    "\n",
    "fp.close()\n"
   ]
  },
  {
   "cell_type": "code",
   "execution_count": 6,
   "metadata": {},
   "outputs": [
    {
     "name": "stdout",
     "output_type": "stream",
     "text": [
      "This article explains the new features in Python 3\n",
      "---after 50 chars-----\n",
      ".7, compared to 3.6. Python 3.7 was released on June 27, 2018. For full details, see the changelog.\n",
      "\n",
      "Summary â€“ Release Highlights\n",
      "New syntax features:\n",
      "\n",
      "PEP 563, postponed evaluation of type annotations.\n",
      "Backwards incompatible syntax changes:\n",
      "\n",
      "async and await are now reserved keywords.\n",
      "New library modules:\n",
      "\n",
      "contextvars: PEP 567 â€“ Context Variables\n",
      "dataclasses: PEP 557 â€“ Data Classes\n",
      "importlib.resources\n",
      "New built-in features:\n",
      "\n",
      "PEP 553, the new breakpoint() function.\n",
      "Python data model improvements:\n",
      "\n",
      "PEP 562, customization of access to module attributes.\n",
      "PEP 560, core support for typing module and generic types.\n",
      "the insertion-order preservation nature of dict objects has been declared to be an official part of the Python language spec.\n",
      "Significant improvements in the standard library:\n",
      "\n",
      "The asyncio module has received new features, significant usability and performance improvements.\n",
      "The time module gained support for functions with nanosecond resolution.\n",
      "CPython implementation improvements:\n",
      "\n",
      "Avoiding the use of ASCII as a default text encoding:\n",
      "PEP 538, legacy C locale coercion\n",
      "PEP 540, forced UTF-8 runtime mode\n",
      "PEP 552, deterministic .pycs\n",
      "the new development runtime mode\n",
      "PEP 565, improved DeprecationWarning handling\n",
      "C API improvements:\n",
      "\n",
      "PEP 539, new C API for thread-local storage\n",
      "Documentation improvements:\n",
      "\n",
      "PEP 545, Python documentation translations\n",
      "New documentation translations: Japanese, French, and Korean.\n",
      "This release features notable performance improvements in many areas. The Optimizations section lists them in detail.\n",
      "\n",
      "For a list of changes that may affect compatibility with previous Python releases please refer to the Porting to Python 3.7 section.\n"
     ]
    }
   ],
   "source": [
    "fp = open(\"test.txt\",\"r\")\n",
    "content = fp.read(50)\n",
    "print(content)\n",
    "\n",
    "print(\"---after 50 chars-----\")\n",
    "content = fp.read()\n",
    "print(content)\n",
    "\n",
    "\n",
    "\n",
    "\n",
    "fp.close()\n"
   ]
  },
  {
   "cell_type": "code",
   "execution_count": 13,
   "metadata": {},
   "outputs": [
    {
     "name": "stdout",
     "output_type": "stream",
     "text": [
      "This article explains the new features in Python 3.7, compared to 3.6. Python 3.7 was released on June 27, 2018. For full details, see the changelog.\n",
      "\n",
      "\n",
      "\n",
      "Summary â€“ Release Highlights\n",
      "\n"
     ]
    }
   ],
   "source": [
    "fp = open(\"test.txt\",\"r\")\n",
    "content = fp.readline()\n",
    "print(content)\n",
    "content = fp.readline()\n",
    "print(content)\n",
    "\n",
    "content = fp.readline()\n",
    "print(content)\n",
    "\n",
    "fp.close()"
   ]
  },
  {
   "cell_type": "code",
   "execution_count": 18,
   "metadata": {},
   "outputs": [
    {
     "name": "stdout",
     "output_type": "stream",
     "text": [
      "44\n"
     ]
    }
   ],
   "source": [
    "fp = open(\"test.txt\",\"r\")\n",
    "content = fp.readlines()\n",
    "print(len(content))\n",
    "fp.close()"
   ]
  },
  {
   "cell_type": "code",
   "execution_count": null,
   "metadata": {},
   "outputs": [],
   "source": []
  },
  {
   "cell_type": "code",
   "execution_count": 16,
   "metadata": {},
   "outputs": [
    {
     "name": "stdout",
     "output_type": "stream",
     "text": [
      "This article explains the new features in Python 3.7, compared to 3.6. Python 3.7 was released on June 27, 2018. For full details, see the changelog.\n",
      "\n",
      "\n",
      "\n",
      "Summary â€“ Release Highlights\n",
      "\n",
      "New syntax features:\n",
      "\n",
      "\n",
      "\n",
      "PEP 563, postponed evaluation of type annotations.\n",
      "\n",
      "Backwards incompatible syntax changes:\n",
      "\n",
      "\n",
      "\n",
      "async and await are now reserved keywords.\n",
      "\n",
      "New library modules:\n",
      "\n",
      "\n",
      "\n",
      "contextvars: PEP 567 â€“ Context Variables\n",
      "\n",
      "dataclasses: PEP 557 â€“ Data Classes\n",
      "\n",
      "importlib.resources\n",
      "\n",
      "New built-in features:\n",
      "\n",
      "\n",
      "\n",
      "PEP 553, the new breakpoint() function.\n",
      "\n",
      "Python data model improvements:\n",
      "\n",
      "\n",
      "\n",
      "PEP 562, customization of access to module attributes.\n",
      "\n",
      "PEP 560, core support for typing module and generic types.\n",
      "\n",
      "the insertion-order preservation nature of dict objects has been declared to be an official part of the Python language spec.\n",
      "\n",
      "Significant improvements in the standard library:\n",
      "\n",
      "\n",
      "\n",
      "The asyncio module has received new features, significant usability and performance improvements.\n",
      "\n",
      "The time module gained support for functions with nanosecond resolution.\n",
      "\n",
      "CPython implementation improvements:\n",
      "\n",
      "\n",
      "\n",
      "Avoiding the use of ASCII as a default text encoding:\n",
      "\n",
      "PEP 538, legacy C locale coercion\n",
      "\n",
      "PEP 540, forced UTF-8 runtime mode\n",
      "\n",
      "PEP 552, deterministic .pycs\n",
      "\n",
      "the new development runtime mode\n",
      "\n",
      "PEP 565, improved DeprecationWarning handling\n",
      "\n",
      "C API improvements:\n",
      "\n",
      "\n",
      "\n",
      "PEP 539, new C API for thread-local storage\n",
      "\n",
      "Documentation improvements:\n",
      "\n",
      "\n",
      "\n",
      "PEP 545, Python documentation translations\n",
      "\n",
      "New documentation translations: Japanese, French, and Korean.\n",
      "\n",
      "This release features notable performance improvements in many areas. The Optimizations section lists them in detail.\n",
      "\n",
      "\n",
      "\n",
      "For a list of changes that may affect compatibility with previous Python releases please refer to the Porting to Python 3.7 section.\n"
     ]
    }
   ],
   "source": [
    "fp = open(\"test.txt\",\"r\")\n",
    "\n",
    "for line in fp:\n",
    "    print(line)\n",
    "\n",
    "fp.close()"
   ]
  },
  {
   "cell_type": "code",
   "execution_count": 21,
   "metadata": {},
   "outputs": [
    {
     "ename": "UnsupportedOperation",
     "evalue": "not readable",
     "output_type": "error",
     "traceback": [
      "\u001b[1;31m---------------------------------------------------------------------------\u001b[0m",
      "\u001b[1;31mUnsupportedOperation\u001b[0m                      Traceback (most recent call last)",
      "\u001b[1;32m<ipython-input-21-9ca761c2255c>\u001b[0m in \u001b[0;36m<module>\u001b[1;34m()\u001b[0m\n\u001b[0;32m      2\u001b[0m \u001b[0mfp\u001b[0m\u001b[1;33m.\u001b[0m\u001b[0mwrite\u001b[0m\u001b[1;33m(\u001b[0m\u001b[1;34m\"This is new line \"\u001b[0m\u001b[1;33m)\u001b[0m\u001b[1;33m\u001b[0m\u001b[0m\n\u001b[0;32m      3\u001b[0m \u001b[1;33m\u001b[0m\u001b[0m\n\u001b[1;32m----> 4\u001b[1;33m \u001b[0mcontent\u001b[0m \u001b[1;33m=\u001b[0m \u001b[0mfp\u001b[0m\u001b[1;33m.\u001b[0m\u001b[0mread\u001b[0m\u001b[1;33m(\u001b[0m\u001b[1;33m)\u001b[0m\u001b[1;33m\u001b[0m\u001b[0m\n\u001b[0m\u001b[0;32m      5\u001b[0m \u001b[0mprint\u001b[0m\u001b[1;33m(\u001b[0m\u001b[0mcontent\u001b[0m\u001b[1;33m)\u001b[0m\u001b[1;33m\u001b[0m\u001b[0m\n\u001b[0;32m      6\u001b[0m \u001b[0mfp\u001b[0m\u001b[1;33m.\u001b[0m\u001b[0mclose\u001b[0m\u001b[1;33m(\u001b[0m\u001b[1;33m)\u001b[0m\u001b[1;33m\u001b[0m\u001b[0m\n",
      "\u001b[1;31mUnsupportedOperation\u001b[0m: not readable"
     ]
    }
   ],
   "source": [
    "fp = open(\"test2.txt\",\"w\")\n",
    "fp.write(\"This is new line \")\n",
    "\n",
    "content = fp.read()\n",
    "print(content)\n",
    "fp.close()"
   ]
  },
  {
   "cell_type": "code",
   "execution_count": null,
   "metadata": {},
   "outputs": [],
   "source": [
    "Tell : current file pointer position \n",
    "    \n",
    "Seek(offset,position)\n",
    "\n",
    "Position : 0 => start of the file \n",
    "           1 => current position \n",
    "           2 => end of the file \n",
    "            \n",
    "seek(10,0) 10 char from start of the file \n",
    "seek(0,2) : zero char from end of the file \n",
    "seek(15,2) : invalid "
   ]
  },
  {
   "cell_type": "code",
   "execution_count": 24,
   "metadata": {},
   "outputs": [
    {
     "name": "stdout",
     "output_type": "stream",
     "text": [
      "0\n",
      "17\n",
      "0\n",
      "This is new line \n"
     ]
    }
   ],
   "source": [
    "fp = open(\"test2.txt\",\"w+\")\n",
    "print(fp.tell())\n",
    "fp.write(\"This is new line \")\n",
    "print(fp.tell())\n",
    "fp.seek(0,0)\n",
    "print(fp.tell())\n",
    "content = fp.read()\n",
    "print(content)\n",
    "fp.close()"
   ]
  },
  {
   "cell_type": "code",
   "execution_count": 31,
   "metadata": {},
   "outputs": [],
   "source": [
    "fp = open(\"test2.txt\",\"r+\")\n",
    "# content = fp.read()\n",
    "# print(content)\n",
    "fp.seek(0,2)\n",
    "fp.write(\"\\n***********\")\n",
    "\n",
    "fp.close()"
   ]
  },
  {
   "cell_type": "code",
   "execution_count": 35,
   "metadata": {},
   "outputs": [
    {
     "name": "stdout",
     "output_type": "stream",
     "text": [
      "93\n",
      "line Add new line to file line1 \n",
      "Just another line line 2\n",
      "Hello add line 3\n",
      "Hello add line 3\n",
      "Hello add line 3\n"
     ]
    }
   ],
   "source": [
    "fp = open(\"test2.txt\",\"a+\")\n",
    "print(fp.tell())\n",
    "fp.write(\"\\nHello add line 3\")\n",
    "fp.seek(0)\n",
    "content = fp.read()\n",
    "print(content)\n",
    "fp.close()"
   ]
  },
  {
   "cell_type": "code",
   "execution_count": 41,
   "metadata": {},
   "outputs": [
    {
     "name": "stdout",
     "output_type": "stream",
     "text": [
      "3.8\n",
      "2.0\n",
      "3.6\n",
      "3.2\n",
      "2.6\n"
     ]
    }
   ],
   "source": [
    "fp = open(\"reviews.txt\",\"r\")\n",
    "fp1 = open(\"avg.txt\",\"w\")\n",
    "for line in fp:\n",
    "    l = line.split(\" \")\n",
    "#     print(l)\n",
    "    r = l[1].split(\",\")\n",
    "#     print(r)\n",
    "    \n",
    "    sum = 0\n",
    "    for value in r:\n",
    "        sum = sum + int(value)\n",
    "    print(sum/5)\n",
    "    fp1.write(\"{} {}\\n\".format(l[0],sum/5))\n",
    "fp.close()\n",
    "fp1.close()\n"
   ]
  },
  {
   "cell_type": "code",
   "execution_count": null,
   "metadata": {},
   "outputs": [],
   "source": [
    "r = > fp at start ,file not exist => error , read \n",
    "r+ => fp at start, file not exist => error , read, write \n",
    "\n",
    "w => fp at start , file not exist create new file , write \n",
    "w+ => at the start ,craete new file , write and read \n",
    "\n",
    "\n",
    "a => fp at end , create new file , wrire at the end   \n",
    "a+ => fp at end , craete new file ,write and read \n",
    "\n",
    "tell =. current fp position  \n",
    "seek => \n",
    "    \n",
    "    0 => start \n",
    "    1 => current \n",
    "    2 => end of the file \n"
   ]
  },
  {
   "cell_type": "markdown",
   "metadata": {},
   "source": [
    "### Regular expressions "
   ]
  },
  {
   "cell_type": "code",
   "execution_count": null,
   "metadata": {},
   "outputs": [],
   "source": [
    "=> pattern matching \n",
    "=> validation "
   ]
  },
  {
   "cell_type": "code",
   "execution_count": 43,
   "metadata": {},
   "outputs": [],
   "source": [
    "import re "
   ]
  },
  {
   "cell_type": "code",
   "execution_count": 46,
   "metadata": {},
   "outputs": [
    {
     "name": "stdout",
     "output_type": "stream",
     "text": [
      "['ab', 'ab', 'ab', 'ab', 'ab']\n"
     ]
    }
   ],
   "source": [
    "s = \"abacdvsfabbvdababaab\"\n",
    "r = re.compile(\"ab\")\n",
    "l = re.findall(r,s)\n",
    "print(l)"
   ]
  },
  {
   "cell_type": "code",
   "execution_count": null,
   "metadata": {},
   "outputs": [],
   "source": [
    "Meta chars \n",
    ". => match with with any char \n",
    "[a-z] => char class  a or b or c or d..... or z\n",
    "[A-Z]\n",
    "[a-zA-Z]\n",
    "[0-9] = > digit class \n",
    "+ => atleast one occurance\n",
    "* => zero or more \n",
    "^ => starts with\n",
    "$ => ends with \n",
    "[a-z]{2,4}\n",
    "[a-z]? = > optional \n"
   ]
  },
  {
   "cell_type": "code",
   "execution_count": 72,
   "metadata": {},
   "outputs": [
    {
     "name": "stdout",
     "output_type": "stream",
     "text": [
      "[]\n"
     ]
    }
   ],
   "source": [
    "s = \"abcde1234\"\n",
    "r = re.compile(\"^[a-z]{2,4}[0-9]+$\")\n",
    "l = re.findall(r,s)\n",
    "print(l)"
   ]
  },
  {
   "cell_type": "code",
   "execution_count": 84,
   "metadata": {},
   "outputs": [
    {
     "name": "stdout",
     "output_type": "stream",
     "text": [
      "ABCDE1234A\n"
     ]
    }
   ],
   "source": [
    "s = \"ABCDE1234A ABCDE1234A ABCDE1234A\" \n",
    "r = re.compile(\"[A-Z]{5}[0-9]{4}[A-Z]\")\n",
    "# l = re.findall(r,s)\n",
    "# print(l)\n",
    "\n",
    "m =  re.search(r,s)\n",
    "if m:\n",
    "    print(m.group())\n",
    "else:\n",
    "    print(\"Invalid pattern\")"
   ]
  },
  {
   "cell_type": "code",
   "execution_count": 130,
   "metadata": {},
   "outputs": [
    {
     "name": "stdout",
     "output_type": "stream",
     "text": [
      "[('31', '50')]\n"
     ]
    }
   ],
   "source": [
    "s = \"31-50-2018\"\n",
    "r = re.compile(\"^([0-9]{2})-([0-9]{2})-[0-9]{4}$\")\n",
    "m = re.search(r,s)\n",
    "\n",
    "l = re.findall(r,s)\n",
    "print(l)\n",
    "\n",
    "# if m:\n",
    "#     print(m.group(2))\n",
    "# else:\n",
    "#     print(\"Invalid date \")"
   ]
  },
  {
   "cell_type": "code",
   "execution_count": 115,
   "metadata": {},
   "outputs": [
    {
     "name": "stdout",
     "output_type": "stream",
     "text": [
      "(+91)6123456789\n"
     ]
    }
   ],
   "source": [
    "# non capturing group \n",
    "s = \"(+91)6123456789\"\n",
    "r = re.compile(\"^(?:\\(\\+91\\))?([6-9][0-9]{9})$\")\n",
    "m =  re.search(r,s)\n",
    "\n",
    "if m:\n",
    "    print(m.group())\n",
    "else:\n",
    "    print(\"Invalid \")\n"
   ]
  },
  {
   "cell_type": "code",
   "execution_count": 97,
   "metadata": {},
   "outputs": [
    {
     "name": "stdout",
     "output_type": "stream",
     "text": [
      "['Python']\n"
     ]
    }
   ],
   "source": [
    "s = \"Python\"\n",
    "r = re.compile(\"Python[0-9]?\")\n",
    "l = re.findall(r,s)\n",
    "print(l)\n"
   ]
  },
  {
   "cell_type": "code",
   "execution_count": 105,
   "metadata": {},
   "outputs": [
    {
     "name": "stdout",
     "output_type": "stream",
     "text": [
      "31\n"
     ]
    }
   ],
   "source": [
    "#named groups \n",
    "s = \"31-50-2018\"\n",
    "r = re.compile(\"^(?P<day>[0-9]{2})-(?P<month>[0-9]{2})-(?P<year>[0-9]{4})$\")\n",
    "m = re.search(r,s)\n",
    "\n",
    "if m:\n",
    "    print(m.group('day'))\n",
    "else:\n",
    "    print(\"Invalid date \")"
   ]
  },
  {
   "cell_type": "code",
   "execution_count": 132,
   "metadata": {},
   "outputs": [
    {
     "name": "stdout",
     "output_type": "stream",
     "text": [
      "['http://www.zekelabs.com/code', 'https://www.github.com/zekelabs']\n"
     ]
    }
   ],
   "source": [
    "s = \"the code url is http://www.zekelabs.com/code https://www.github.com/zekelabs\"\n",
    "\n",
    "# the code url is <a href =\"http://www.zekelabs.com/code\">http://www.zekelabs.com/code</a><a href=\"https://www.github.com/zekelabs\">https://www.github.com/zekelabs</a>\n",
    "\n",
    "r =  re.compile(\"https?://www\\.[a-z0-9]+\\.com/[a-z]+\")\n",
    "l = re.findall(r,s)\n",
    "print(l)\n",
    "# for value in l:\n",
    "#     s = s.replace(value,\"<a href= {}>{}</a>\".format(value,value))\n",
    "# print(s)\n"
   ]
  },
  {
   "cell_type": "code",
   "execution_count": null,
   "metadata": {},
   "outputs": [],
   "source": [
    "Click here \n",
    "<a href=\"www.google.com\">Click Here</a>"
   ]
  },
  {
   "cell_type": "code",
   "execution_count": 135,
   "metadata": {},
   "outputs": [
    {
     "name": "stdout",
     "output_type": "stream",
     "text": [
      "['Python', 'python']\n"
     ]
    }
   ],
   "source": [
    "s = \"Python,Java,python\"\n",
    "r = re.compile(\"python\",re.I)\n",
    "l = re.findall(r,s)\n",
    "print(l)"
   ]
  },
  {
   "cell_type": "code",
   "execution_count": 139,
   "metadata": {},
   "outputs": [
    {
     "name": "stdout",
     "output_type": "stream",
     "text": [
      "['1', '2', '3', '4']\n"
     ]
    }
   ],
   "source": [
    "s = \"abcd1234\"\n",
    "r = re.compile(\"\\d\")\n",
    "l = re.findall(r,s)\n",
    "print(l)\n"
   ]
  },
  {
   "cell_type": "code",
   "execution_count": null,
   "metadata": {},
   "outputs": [],
   "source": [
    "#Wildcards \n",
    "[0-9] = > \\d\n",
    "[^0-9] => \\D\n",
    "\n",
    "[a-zA-Z0-9] => \\w \n",
    "[^a-zA-Z0-9] = >\\W\n",
    "\n",
    "\\s => space \n",
    "\\S => ^ \\S"
   ]
  },
  {
   "cell_type": "code",
   "execution_count": null,
   "metadata": {},
   "outputs": [],
   "source": [
    ". = > match with anything \n",
    "[a-z]\n",
    "[^0-9]\n",
    "^ = > start of the string \n",
    "$ => end \n",
    "{2,5}\n",
    "? => optioal \n",
    "\n",
    "group=> ()\n",
    "named groups (?P<name>)\n",
    "non capturing (?:)\n",
    "\n",
    "re.I \n",
    "\n",
    "\n"
   ]
  },
  {
   "cell_type": "code",
   "execution_count": null,
   "metadata": {},
   "outputs": [],
   "source": [
    "1 valid email address \n",
    "2 ip address 0.0.0.0 255.255.255.255  \n",
    "3 date validation\n",
    "4 file name email contact\n",
    "  name email \n",
    "\n"
   ]
  },
  {
   "cell_type": "code",
   "execution_count": null,
   "metadata": {},
   "outputs": [],
   "source": [
    "list comprehension \n",
    "map \n",
    "filter \n",
    "lambda "
   ]
  }
 ],
 "metadata": {
  "kernelspec": {
   "display_name": "Python 3",
   "language": "python",
   "name": "python3"
  },
  "language_info": {
   "codemirror_mode": {
    "name": "ipython",
    "version": 3
   },
   "file_extension": ".py",
   "mimetype": "text/x-python",
   "name": "python",
   "nbconvert_exporter": "python",
   "pygments_lexer": "ipython3",
   "version": "3.6.5"
  }
 },
 "nbformat": 4,
 "nbformat_minor": 2
}
